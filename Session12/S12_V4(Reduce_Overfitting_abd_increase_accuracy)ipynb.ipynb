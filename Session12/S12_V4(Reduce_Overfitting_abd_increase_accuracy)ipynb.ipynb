{
  "nbformat": 4,
  "nbformat_minor": 0,
  "metadata": {
    "colab": {
      "name": "S12_V4(Reduce Overfitting abd increase accuracy)ipynb",
      "provenance": [],
      "collapsed_sections": [],
      "authorship_tag": "ABX9TyOwc0ioZKTF4JmNOVm8OR68",
      "include_colab_link": true
    },
    "kernelspec": {
      "name": "python3",
      "display_name": "Python 3"
    },
    "accelerator": "GPU",
    "widgets": {
      "application/vnd.jupyter.widget-state+json": {
        "2c49916d031c4ab881ac2601def51400": {
          "model_module": "@jupyter-widgets/controls",
          "model_name": "HBoxModel",
          "state": {
            "_view_name": "HBoxView",
            "_dom_classes": [],
            "_model_name": "HBoxModel",
            "_view_module": "@jupyter-widgets/controls",
            "_model_module_version": "1.5.0",
            "_view_count": null,
            "_view_module_version": "1.5.0",
            "box_style": "",
            "layout": "IPY_MODEL_4c91dd2ab9d14ee88b499b9a675d461f",
            "_model_module": "@jupyter-widgets/controls",
            "children": [
              "IPY_MODEL_fb07ac4afba94932b5cc4d1004c32801",
              "IPY_MODEL_e5364b5a709042dfa78a2f8579d7e905"
            ]
          }
        },
        "4c91dd2ab9d14ee88b499b9a675d461f": {
          "model_module": "@jupyter-widgets/base",
          "model_name": "LayoutModel",
          "state": {
            "_view_name": "LayoutView",
            "grid_template_rows": null,
            "right": null,
            "justify_content": null,
            "_view_module": "@jupyter-widgets/base",
            "overflow": null,
            "_model_module_version": "1.2.0",
            "_view_count": null,
            "flex_flow": null,
            "width": null,
            "min_width": null,
            "border": null,
            "align_items": null,
            "bottom": null,
            "_model_module": "@jupyter-widgets/base",
            "top": null,
            "grid_column": null,
            "overflow_y": null,
            "overflow_x": null,
            "grid_auto_flow": null,
            "grid_area": null,
            "grid_template_columns": null,
            "flex": null,
            "_model_name": "LayoutModel",
            "justify_items": null,
            "grid_row": null,
            "max_height": null,
            "align_content": null,
            "visibility": null,
            "align_self": null,
            "height": null,
            "min_height": null,
            "padding": null,
            "grid_auto_rows": null,
            "grid_gap": null,
            "max_width": null,
            "order": null,
            "_view_module_version": "1.2.0",
            "grid_template_areas": null,
            "object_position": null,
            "object_fit": null,
            "grid_auto_columns": null,
            "margin": null,
            "display": null,
            "left": null
          }
        },
        "fb07ac4afba94932b5cc4d1004c32801": {
          "model_module": "@jupyter-widgets/controls",
          "model_name": "IntProgressModel",
          "state": {
            "_view_name": "ProgressView",
            "style": "IPY_MODEL_5cfbca37db624e959eb9db6a1d4c39ba",
            "_dom_classes": [],
            "description": "Loading Train Folder: 100%",
            "_model_name": "IntProgressModel",
            "bar_style": "success",
            "max": 200,
            "_view_module": "@jupyter-widgets/controls",
            "_model_module_version": "1.5.0",
            "value": 200,
            "_view_count": null,
            "_view_module_version": "1.5.0",
            "orientation": "horizontal",
            "min": 0,
            "description_tooltip": null,
            "_model_module": "@jupyter-widgets/controls",
            "layout": "IPY_MODEL_fc372a9ec4bb44a6bd82c6bb98ba77d4"
          }
        },
        "e5364b5a709042dfa78a2f8579d7e905": {
          "model_module": "@jupyter-widgets/controls",
          "model_name": "HTMLModel",
          "state": {
            "_view_name": "HTMLView",
            "style": "IPY_MODEL_8440c6643ce64f10989ef00f0513ace1",
            "_dom_classes": [],
            "description": "",
            "_model_name": "HTMLModel",
            "placeholder": "​",
            "_view_module": "@jupyter-widgets/controls",
            "_model_module_version": "1.5.0",
            "value": " 200/200 [01:24&lt;00:00,  2.38it/s]",
            "_view_count": null,
            "_view_module_version": "1.5.0",
            "description_tooltip": null,
            "_model_module": "@jupyter-widgets/controls",
            "layout": "IPY_MODEL_888d1c39d3984dedaffc866a2fd20ca5"
          }
        },
        "5cfbca37db624e959eb9db6a1d4c39ba": {
          "model_module": "@jupyter-widgets/controls",
          "model_name": "ProgressStyleModel",
          "state": {
            "_view_name": "StyleView",
            "_model_name": "ProgressStyleModel",
            "description_width": "initial",
            "_view_module": "@jupyter-widgets/base",
            "_model_module_version": "1.5.0",
            "_view_count": null,
            "_view_module_version": "1.2.0",
            "bar_color": null,
            "_model_module": "@jupyter-widgets/controls"
          }
        },
        "fc372a9ec4bb44a6bd82c6bb98ba77d4": {
          "model_module": "@jupyter-widgets/base",
          "model_name": "LayoutModel",
          "state": {
            "_view_name": "LayoutView",
            "grid_template_rows": null,
            "right": null,
            "justify_content": null,
            "_view_module": "@jupyter-widgets/base",
            "overflow": null,
            "_model_module_version": "1.2.0",
            "_view_count": null,
            "flex_flow": null,
            "width": null,
            "min_width": null,
            "border": null,
            "align_items": null,
            "bottom": null,
            "_model_module": "@jupyter-widgets/base",
            "top": null,
            "grid_column": null,
            "overflow_y": null,
            "overflow_x": null,
            "grid_auto_flow": null,
            "grid_area": null,
            "grid_template_columns": null,
            "flex": null,
            "_model_name": "LayoutModel",
            "justify_items": null,
            "grid_row": null,
            "max_height": null,
            "align_content": null,
            "visibility": null,
            "align_self": null,
            "height": null,
            "min_height": null,
            "padding": null,
            "grid_auto_rows": null,
            "grid_gap": null,
            "max_width": null,
            "order": null,
            "_view_module_version": "1.2.0",
            "grid_template_areas": null,
            "object_position": null,
            "object_fit": null,
            "grid_auto_columns": null,
            "margin": null,
            "display": null,
            "left": null
          }
        },
        "8440c6643ce64f10989ef00f0513ace1": {
          "model_module": "@jupyter-widgets/controls",
          "model_name": "DescriptionStyleModel",
          "state": {
            "_view_name": "StyleView",
            "_model_name": "DescriptionStyleModel",
            "description_width": "",
            "_view_module": "@jupyter-widgets/base",
            "_model_module_version": "1.5.0",
            "_view_count": null,
            "_view_module_version": "1.2.0",
            "_model_module": "@jupyter-widgets/controls"
          }
        },
        "888d1c39d3984dedaffc866a2fd20ca5": {
          "model_module": "@jupyter-widgets/base",
          "model_name": "LayoutModel",
          "state": {
            "_view_name": "LayoutView",
            "grid_template_rows": null,
            "right": null,
            "justify_content": null,
            "_view_module": "@jupyter-widgets/base",
            "overflow": null,
            "_model_module_version": "1.2.0",
            "_view_count": null,
            "flex_flow": null,
            "width": null,
            "min_width": null,
            "border": null,
            "align_items": null,
            "bottom": null,
            "_model_module": "@jupyter-widgets/base",
            "top": null,
            "grid_column": null,
            "overflow_y": null,
            "overflow_x": null,
            "grid_auto_flow": null,
            "grid_area": null,
            "grid_template_columns": null,
            "flex": null,
            "_model_name": "LayoutModel",
            "justify_items": null,
            "grid_row": null,
            "max_height": null,
            "align_content": null,
            "visibility": null,
            "align_self": null,
            "height": null,
            "min_height": null,
            "padding": null,
            "grid_auto_rows": null,
            "grid_gap": null,
            "max_width": null,
            "order": null,
            "_view_module_version": "1.2.0",
            "grid_template_areas": null,
            "object_position": null,
            "object_fit": null,
            "grid_auto_columns": null,
            "margin": null,
            "display": null,
            "left": null
          }
        },
        "ae6130f077554169b241bc71dbfae98e": {
          "model_module": "@jupyter-widgets/controls",
          "model_name": "HBoxModel",
          "state": {
            "_view_name": "HBoxView",
            "_dom_classes": [],
            "_model_name": "HBoxModel",
            "_view_module": "@jupyter-widgets/controls",
            "_model_module_version": "1.5.0",
            "_view_count": null,
            "_view_module_version": "1.5.0",
            "box_style": "",
            "layout": "IPY_MODEL_a88dce3092a74453b688264fff83ce0b",
            "_model_module": "@jupyter-widgets/controls",
            "children": [
              "IPY_MODEL_be3ea316286f4631979674da8357bc85",
              "IPY_MODEL_7d430da6ef894efa8e530921013b2839"
            ]
          }
        },
        "a88dce3092a74453b688264fff83ce0b": {
          "model_module": "@jupyter-widgets/base",
          "model_name": "LayoutModel",
          "state": {
            "_view_name": "LayoutView",
            "grid_template_rows": null,
            "right": null,
            "justify_content": null,
            "_view_module": "@jupyter-widgets/base",
            "overflow": null,
            "_model_module_version": "1.2.0",
            "_view_count": null,
            "flex_flow": null,
            "width": null,
            "min_width": null,
            "border": null,
            "align_items": null,
            "bottom": null,
            "_model_module": "@jupyter-widgets/base",
            "top": null,
            "grid_column": null,
            "overflow_y": null,
            "overflow_x": null,
            "grid_auto_flow": null,
            "grid_area": null,
            "grid_template_columns": null,
            "flex": null,
            "_model_name": "LayoutModel",
            "justify_items": null,
            "grid_row": null,
            "max_height": null,
            "align_content": null,
            "visibility": null,
            "align_self": null,
            "height": null,
            "min_height": null,
            "padding": null,
            "grid_auto_rows": null,
            "grid_gap": null,
            "max_width": null,
            "order": null,
            "_view_module_version": "1.2.0",
            "grid_template_areas": null,
            "object_position": null,
            "object_fit": null,
            "grid_auto_columns": null,
            "margin": null,
            "display": null,
            "left": null
          }
        },
        "be3ea316286f4631979674da8357bc85": {
          "model_module": "@jupyter-widgets/controls",
          "model_name": "IntProgressModel",
          "state": {
            "_view_name": "ProgressView",
            "style": "IPY_MODEL_fbe6b90a1428477b833ef3b600fc7efc",
            "_dom_classes": [],
            "description": "Loading Test Folder: 100%",
            "_model_name": "IntProgressModel",
            "bar_style": "success",
            "max": 10000,
            "_view_module": "@jupyter-widgets/controls",
            "_model_module_version": "1.5.0",
            "value": 10000,
            "_view_count": null,
            "_view_module_version": "1.5.0",
            "orientation": "horizontal",
            "min": 0,
            "description_tooltip": null,
            "_model_module": "@jupyter-widgets/controls",
            "layout": "IPY_MODEL_75dba823443242589c73c6565141bd78"
          }
        },
        "7d430da6ef894efa8e530921013b2839": {
          "model_module": "@jupyter-widgets/controls",
          "model_name": "HTMLModel",
          "state": {
            "_view_name": "HTMLView",
            "style": "IPY_MODEL_995b3ab2d74e47ba875a1d723a91391d",
            "_dom_classes": [],
            "description": "",
            "_model_name": "HTMLModel",
            "placeholder": "​",
            "_view_module": "@jupyter-widgets/controls",
            "_model_module_version": "1.5.0",
            "value": " 10000/10000 [00:02&lt;00:00, 4714.57it/s]",
            "_view_count": null,
            "_view_module_version": "1.5.0",
            "description_tooltip": null,
            "_model_module": "@jupyter-widgets/controls",
            "layout": "IPY_MODEL_e4e861b0cf4b4910b47c6af560882940"
          }
        },
        "fbe6b90a1428477b833ef3b600fc7efc": {
          "model_module": "@jupyter-widgets/controls",
          "model_name": "ProgressStyleModel",
          "state": {
            "_view_name": "StyleView",
            "_model_name": "ProgressStyleModel",
            "description_width": "initial",
            "_view_module": "@jupyter-widgets/base",
            "_model_module_version": "1.5.0",
            "_view_count": null,
            "_view_module_version": "1.2.0",
            "bar_color": null,
            "_model_module": "@jupyter-widgets/controls"
          }
        },
        "75dba823443242589c73c6565141bd78": {
          "model_module": "@jupyter-widgets/base",
          "model_name": "LayoutModel",
          "state": {
            "_view_name": "LayoutView",
            "grid_template_rows": null,
            "right": null,
            "justify_content": null,
            "_view_module": "@jupyter-widgets/base",
            "overflow": null,
            "_model_module_version": "1.2.0",
            "_view_count": null,
            "flex_flow": null,
            "width": null,
            "min_width": null,
            "border": null,
            "align_items": null,
            "bottom": null,
            "_model_module": "@jupyter-widgets/base",
            "top": null,
            "grid_column": null,
            "overflow_y": null,
            "overflow_x": null,
            "grid_auto_flow": null,
            "grid_area": null,
            "grid_template_columns": null,
            "flex": null,
            "_model_name": "LayoutModel",
            "justify_items": null,
            "grid_row": null,
            "max_height": null,
            "align_content": null,
            "visibility": null,
            "align_self": null,
            "height": null,
            "min_height": null,
            "padding": null,
            "grid_auto_rows": null,
            "grid_gap": null,
            "max_width": null,
            "order": null,
            "_view_module_version": "1.2.0",
            "grid_template_areas": null,
            "object_position": null,
            "object_fit": null,
            "grid_auto_columns": null,
            "margin": null,
            "display": null,
            "left": null
          }
        },
        "995b3ab2d74e47ba875a1d723a91391d": {
          "model_module": "@jupyter-widgets/controls",
          "model_name": "DescriptionStyleModel",
          "state": {
            "_view_name": "StyleView",
            "_model_name": "DescriptionStyleModel",
            "description_width": "",
            "_view_module": "@jupyter-widgets/base",
            "_model_module_version": "1.5.0",
            "_view_count": null,
            "_view_module_version": "1.2.0",
            "_model_module": "@jupyter-widgets/controls"
          }
        },
        "e4e861b0cf4b4910b47c6af560882940": {
          "model_module": "@jupyter-widgets/base",
          "model_name": "LayoutModel",
          "state": {
            "_view_name": "LayoutView",
            "grid_template_rows": null,
            "right": null,
            "justify_content": null,
            "_view_module": "@jupyter-widgets/base",
            "overflow": null,
            "_model_module_version": "1.2.0",
            "_view_count": null,
            "flex_flow": null,
            "width": null,
            "min_width": null,
            "border": null,
            "align_items": null,
            "bottom": null,
            "_model_module": "@jupyter-widgets/base",
            "top": null,
            "grid_column": null,
            "overflow_y": null,
            "overflow_x": null,
            "grid_auto_flow": null,
            "grid_area": null,
            "grid_template_columns": null,
            "flex": null,
            "_model_name": "LayoutModel",
            "justify_items": null,
            "grid_row": null,
            "max_height": null,
            "align_content": null,
            "visibility": null,
            "align_self": null,
            "height": null,
            "min_height": null,
            "padding": null,
            "grid_auto_rows": null,
            "grid_gap": null,
            "max_width": null,
            "order": null,
            "_view_module_version": "1.2.0",
            "grid_template_areas": null,
            "object_position": null,
            "object_fit": null,
            "grid_auto_columns": null,
            "margin": null,
            "display": null,
            "left": null
          }
        }
      }
    }
  },
  "cells": [
    {
      "cell_type": "markdown",
      "metadata": {
        "id": "view-in-github",
        "colab_type": "text"
      },
      "source": [
        "<a href=\"https://colab.research.google.com/github/Sushmitha-Katti/Artshaala--Frontend/blob/master/Session12/S12_V4(Reduce_Overfitting_abd_increase_accuracy)ipynb.ipynb\" target=\"_parent\"><img src=\"https://colab.research.google.com/assets/colab-badge.svg\" alt=\"Open In Colab\"/></a>"
      ]
    },
    {
      "cell_type": "markdown",
      "metadata": {
        "id": "fDCQhZeHyqfb",
        "colab_type": "text"
      },
      "source": [
        "# Object classification on Tiny Imagenet Data"
      ]
    },
    {
      "cell_type": "code",
      "metadata": {
        "id": "j1EcWDOVIjkV",
        "colab_type": "code",
        "outputId": "6795aafb-d7d9-46ca-8b5d-7e1a69eb77c5",
        "colab": {
          "base_uri": "https://localhost:8080/",
          "height": 68
        }
      },
      "source": [
        "!pip install --no-cache-dir git+https://github.com/albu/albumentations > /dev/null && echo \"Albumentation library is successfully installed!\"\n",
        "!git clone https://github.com/Sushmitha-Katti/PyTNet \n",
        "import sys\n",
        "sys.path.append(\"PyTNet\")"
      ],
      "execution_count": 1,
      "outputs": [
        {
          "output_type": "stream",
          "text": [
            "  Running command git clone -q https://github.com/albu/albumentations /tmp/pip-req-build-rbv0yt9c\n",
            "Albumentation library is successfully installed!\n",
            "fatal: destination path 'PyTNet' already exists and is not an empty directory.\n"
          ],
          "name": "stdout"
        }
      ]
    },
    {
      "cell_type": "markdown",
      "metadata": {
        "id": "9XDU27uFv1sk",
        "colab_type": "text"
      },
      "source": [
        "## **Importing Required files**"
      ]
    },
    {
      "cell_type": "code",
      "metadata": {
        "id": "pqlirjsPJM6p",
        "colab_type": "code",
        "colab": {}
      },
      "source": [
        "import torch\n",
        "import train_test_loader\n",
        "import show_images\n",
        "import train_test\n",
        "import evaluate\n",
        "from Albumentationtransform import AlbumentationTransforms\n",
        "from GradCam import GradCAM,visualize_cam\n",
        "from LR_Range_Test import LR_test\n",
        "from tinyimagenet import TinyImageNetDataSet"
      ],
      "execution_count": 0,
      "outputs": []
    },
    {
      "cell_type": "code",
      "metadata": {
        "colab_type": "code",
        "outputId": "1c5b93a9-b22e-4acb-8ed6-b5512f4ea86f",
        "id": "bIKF2glv-ypB",
        "colab": {
          "base_uri": "https://localhost:8080/",
          "height": 132,
          "referenced_widgets": [
            "2c49916d031c4ab881ac2601def51400",
            "4c91dd2ab9d14ee88b499b9a675d461f",
            "fb07ac4afba94932b5cc4d1004c32801",
            "e5364b5a709042dfa78a2f8579d7e905",
            "5cfbca37db624e959eb9db6a1d4c39ba",
            "fc372a9ec4bb44a6bd82c6bb98ba77d4",
            "8440c6643ce64f10989ef00f0513ace1",
            "888d1c39d3984dedaffc866a2fd20ca5",
            "ae6130f077554169b241bc71dbfae98e",
            "a88dce3092a74453b688264fff83ce0b",
            "be3ea316286f4631979674da8357bc85",
            "7d430da6ef894efa8e530921013b2839",
            "fbe6b90a1428477b833ef3b600fc7efc",
            "75dba823443242589c73c6565141bd78",
            "995b3ab2d74e47ba875a1d723a91391d",
            "e4e861b0cf4b4910b47c6af560882940"
          ]
        }
      },
      "source": [
        "import albumentations as A\n",
        "import cv2\n",
        "channel_means = (0.5, 0.5, 0.5)\n",
        "channel_stdevs = (0.5, 0.5, 0.5)\n",
        "train_transform = AlbumentationTransforms([       \n",
        "                                                                \n",
        "                                      A.HorizontalFlip(p = 0.7),\n",
        "                                      A.PadIfNeeded(min_height=70, min_width=70, border_mode=4, value=None, mask_value=None, always_apply=False, p=1.0),\n",
        "                                      A.GaussNoise(var_limit=(10.0, 50.0), mean=0, always_apply=False, p=0.5),\n",
        "                                      A.RandomCrop(64, 64, always_apply=False, p=1.0),\n",
        "                                      A.VerticalFlip(always_apply=False, p=0.5),\n",
        "                                      A.Rotate(limit=50, interpolation=1, border_mode=4, value=None, mask_value=None, always_apply=False, p=0.5),\n",
        "                                      A.Normalize(mean=channel_means, std=channel_stdevs),\n",
        "                                      A.Cutout(num_holes=1, max_h_size=32,max_w_size = 32,p=0.7) \n",
        "                                       ])\n",
        "test_transform = AlbumentationTransforms([A.Normalize(mean=channel_means, std=channel_stdevs)])\n",
        "train_dataset , test_dataset,classes = TinyImageNetDataSet(train_split = 70,test_transforms = test_transform,train_transforms = train_transform)"
      ],
      "execution_count": 3,
      "outputs": [
        {
          "output_type": "stream",
          "text": [
            "Images already downloaded...\n"
          ],
          "name": "stdout"
        },
        {
          "output_type": "display_data",
          "data": {
            "application/vnd.jupyter.widget-view+json": {
              "model_id": "2c49916d031c4ab881ac2601def51400",
              "version_minor": 0,
              "version_major": 2
            },
            "text/plain": [
              "HBox(children=(IntProgress(value=0, description='Loading Train Folder', max=200, style=ProgressStyle(descripti…"
            ]
          },
          "metadata": {
            "tags": []
          }
        },
        {
          "output_type": "stream",
          "text": [
            "\n"
          ],
          "name": "stdout"
        },
        {
          "output_type": "display_data",
          "data": {
            "application/vnd.jupyter.widget-view+json": {
              "model_id": "ae6130f077554169b241bc71dbfae98e",
              "version_minor": 0,
              "version_major": 2
            },
            "text/plain": [
              "HBox(children=(IntProgress(value=0, description='Loading Test Folder', max=10000, style=ProgressStyle(descript…"
            ]
          },
          "metadata": {
            "tags": []
          }
        },
        {
          "output_type": "stream",
          "text": [
            "\n"
          ],
          "name": "stdout"
        }
      ]
    },
    {
      "cell_type": "markdown",
      "metadata": {
        "id": "i2ZEDSUsvctr",
        "colab_type": "text"
      },
      "source": [
        "## **DataLoader**"
      ]
    },
    {
      "cell_type": "code",
      "metadata": {
        "id": "PKBwtbU87nKW",
        "colab_type": "code",
        "colab": {}
      },
      "source": [
        "trainloader, testloader = train_test_loader.load(train_dataset,test_dataset,batch_size=640)"
      ],
      "execution_count": 0,
      "outputs": []
    },
    {
      "cell_type": "markdown",
      "metadata": {
        "id": "bidyNeFy0mK1",
        "colab_type": "text"
      },
      "source": [
        "## **Used Torchvisions resnet model, but not pre trained. Print the summary**"
      ]
    },
    {
      "cell_type": "code",
      "metadata": {
        "id": "kxcMgICoIpHI",
        "colab_type": "code",
        "outputId": "50f1b33c-e550-4487-d7bd-add5c35cbba2",
        "colab": {
          "base_uri": "https://localhost:8080/",
          "height": 1000
        }
      },
      "source": [
        "import torchvision\n",
        "import torch.nn as nn\n",
        "import torch.nn.functional as F\n",
        "from torchsummary import summary\n",
        "\n",
        "use_cuda = torch.cuda.is_available()\n",
        "device = torch.device(\"cuda\" if use_cuda else \"cpu\")\n",
        "model = torchvision.models.resnet18(pretrained=False, num_classes=200).to(device)\n",
        "summary(model, input_size=(3, 64, 64))\n"
      ],
      "execution_count": 13,
      "outputs": [
        {
          "output_type": "stream",
          "text": [
            "----------------------------------------------------------------\n",
            "        Layer (type)               Output Shape         Param #\n",
            "================================================================\n",
            "            Conv2d-1           [-1, 64, 32, 32]           9,408\n",
            "       BatchNorm2d-2           [-1, 64, 32, 32]             128\n",
            "              ReLU-3           [-1, 64, 32, 32]               0\n",
            "         MaxPool2d-4           [-1, 64, 16, 16]               0\n",
            "            Conv2d-5           [-1, 64, 16, 16]          36,864\n",
            "       BatchNorm2d-6           [-1, 64, 16, 16]             128\n",
            "              ReLU-7           [-1, 64, 16, 16]               0\n",
            "            Conv2d-8           [-1, 64, 16, 16]          36,864\n",
            "       BatchNorm2d-9           [-1, 64, 16, 16]             128\n",
            "             ReLU-10           [-1, 64, 16, 16]               0\n",
            "       BasicBlock-11           [-1, 64, 16, 16]               0\n",
            "           Conv2d-12           [-1, 64, 16, 16]          36,864\n",
            "      BatchNorm2d-13           [-1, 64, 16, 16]             128\n",
            "             ReLU-14           [-1, 64, 16, 16]               0\n",
            "           Conv2d-15           [-1, 64, 16, 16]          36,864\n",
            "      BatchNorm2d-16           [-1, 64, 16, 16]             128\n",
            "             ReLU-17           [-1, 64, 16, 16]               0\n",
            "       BasicBlock-18           [-1, 64, 16, 16]               0\n",
            "           Conv2d-19            [-1, 128, 8, 8]          73,728\n",
            "      BatchNorm2d-20            [-1, 128, 8, 8]             256\n",
            "             ReLU-21            [-1, 128, 8, 8]               0\n",
            "           Conv2d-22            [-1, 128, 8, 8]         147,456\n",
            "      BatchNorm2d-23            [-1, 128, 8, 8]             256\n",
            "           Conv2d-24            [-1, 128, 8, 8]           8,192\n",
            "      BatchNorm2d-25            [-1, 128, 8, 8]             256\n",
            "             ReLU-26            [-1, 128, 8, 8]               0\n",
            "       BasicBlock-27            [-1, 128, 8, 8]               0\n",
            "           Conv2d-28            [-1, 128, 8, 8]         147,456\n",
            "      BatchNorm2d-29            [-1, 128, 8, 8]             256\n",
            "             ReLU-30            [-1, 128, 8, 8]               0\n",
            "           Conv2d-31            [-1, 128, 8, 8]         147,456\n",
            "      BatchNorm2d-32            [-1, 128, 8, 8]             256\n",
            "             ReLU-33            [-1, 128, 8, 8]               0\n",
            "       BasicBlock-34            [-1, 128, 8, 8]               0\n",
            "           Conv2d-35            [-1, 256, 4, 4]         294,912\n",
            "      BatchNorm2d-36            [-1, 256, 4, 4]             512\n",
            "             ReLU-37            [-1, 256, 4, 4]               0\n",
            "           Conv2d-38            [-1, 256, 4, 4]         589,824\n",
            "      BatchNorm2d-39            [-1, 256, 4, 4]             512\n",
            "           Conv2d-40            [-1, 256, 4, 4]          32,768\n",
            "      BatchNorm2d-41            [-1, 256, 4, 4]             512\n",
            "             ReLU-42            [-1, 256, 4, 4]               0\n",
            "       BasicBlock-43            [-1, 256, 4, 4]               0\n",
            "           Conv2d-44            [-1, 256, 4, 4]         589,824\n",
            "      BatchNorm2d-45            [-1, 256, 4, 4]             512\n",
            "             ReLU-46            [-1, 256, 4, 4]               0\n",
            "           Conv2d-47            [-1, 256, 4, 4]         589,824\n",
            "      BatchNorm2d-48            [-1, 256, 4, 4]             512\n",
            "             ReLU-49            [-1, 256, 4, 4]               0\n",
            "       BasicBlock-50            [-1, 256, 4, 4]               0\n",
            "           Conv2d-51            [-1, 512, 2, 2]       1,179,648\n",
            "      BatchNorm2d-52            [-1, 512, 2, 2]           1,024\n",
            "             ReLU-53            [-1, 512, 2, 2]               0\n",
            "           Conv2d-54            [-1, 512, 2, 2]       2,359,296\n",
            "      BatchNorm2d-55            [-1, 512, 2, 2]           1,024\n",
            "           Conv2d-56            [-1, 512, 2, 2]         131,072\n",
            "      BatchNorm2d-57            [-1, 512, 2, 2]           1,024\n",
            "             ReLU-58            [-1, 512, 2, 2]               0\n",
            "       BasicBlock-59            [-1, 512, 2, 2]               0\n",
            "           Conv2d-60            [-1, 512, 2, 2]       2,359,296\n",
            "      BatchNorm2d-61            [-1, 512, 2, 2]           1,024\n",
            "             ReLU-62            [-1, 512, 2, 2]               0\n",
            "           Conv2d-63            [-1, 512, 2, 2]       2,359,296\n",
            "      BatchNorm2d-64            [-1, 512, 2, 2]           1,024\n",
            "             ReLU-65            [-1, 512, 2, 2]               0\n",
            "       BasicBlock-66            [-1, 512, 2, 2]               0\n",
            "AdaptiveAvgPool2d-67            [-1, 512, 1, 1]               0\n",
            "           Linear-68                  [-1, 200]         102,600\n",
            "================================================================\n",
            "Total params: 11,279,112\n",
            "Trainable params: 11,279,112\n",
            "Non-trainable params: 0\n",
            "----------------------------------------------------------------\n",
            "Input size (MB): 0.05\n",
            "Forward/backward pass size (MB): 5.13\n",
            "Params size (MB): 43.03\n",
            "Estimated Total Size (MB): 48.20\n",
            "----------------------------------------------------------------\n"
          ],
          "name": "stdout"
        }
      ]
    },
    {
      "cell_type": "markdown",
      "metadata": {
        "id": "prWMRFks05H2",
        "colab_type": "text"
      },
      "source": [
        "## **Initialise Optimiser,Scheduler, Criterion**"
      ]
    },
    {
      "cell_type": "code",
      "metadata": {
        "id": "Wr_OTR8erktV",
        "colab_type": "code",
        "colab": {}
      },
      "source": [
        "import torch.nn as nn\n",
        "import torch.optim as optim\n",
        "from torch.optim.lr_scheduler import OneCycleLR,StepLR\n",
        "\n",
        "optimizer = optim.SGD(model.parameters(), lr=0.01,momentum=0.9,weight_decay = 0.0001,nesterov = True ) \n",
        "criterion = nn.CrossEntropyLoss()\n",
        "scheduler = OneCycleLR(optimizer, max_lr = 0.2, total_steps=None, epochs=30, steps_per_epoch=1, pct_start=1/3, anneal_strategy='linear', cycle_momentum=True, base_momentum=0.85, max_momentum=0.95, div_factor=10.0,final_div_factor =10)\n"
      ],
      "execution_count": 0,
      "outputs": []
    },
    {
      "cell_type": "markdown",
      "metadata": {
        "id": "qumgWijf1Fsi",
        "colab_type": "text"
      },
      "source": [
        "## **Train Model**"
      ]
    },
    {
      "cell_type": "code",
      "metadata": {
        "id": "6LGzV7sWtGo5",
        "colab_type": "code",
        "outputId": "87b6650f-6ba2-42df-88b8-d0ea22d5307b",
        "colab": {
          "base_uri": "https://localhost:8080/",
          "height": 1000
        }
      },
      "source": [
        "\n",
        "train_test.train_model(model,device,trainloader,testloader,optimizer,criterion,30,scheduler,batch_scheduler=False,best_acc = 0,path = \"tinymodel.pt\")"
      ],
      "execution_count": 15,
      "outputs": [
        {
          "output_type": "stream",
          "text": [
            "\r  0%|          | 0/121 [00:00<?, ?it/s]"
          ],
          "name": "stderr"
        },
        {
          "output_type": "stream",
          "text": [
            "EPOCH: 1 LR: 0.02\n"
          ],
          "name": "stdout"
        },
        {
          "output_type": "stream",
          "text": [
            "Loss=4.696480751037598 Batch_id=120 Accuracy=2.94: 100%|██████████| 121/121 [00:54<00:00,  2.24it/s]\n",
            "100%|██████████| 52/52 [00:06<00:00,  8.41it/s]\n",
            "  0%|          | 0/121 [00:00<?, ?it/s]"
          ],
          "name": "stderr"
        },
        {
          "output_type": "stream",
          "text": [
            "\n",
            "Test set: Average loss: 0.0074, Accuracy: 1951/33000 (5.91%)\n",
            "\n",
            "accuracy increased, Saving model....\n",
            "EPOCH: 2 LR: 0.04\n"
          ],
          "name": "stdout"
        },
        {
          "output_type": "stream",
          "text": [
            "Loss=4.178760528564453 Batch_id=120 Accuracy=8.55: 100%|██████████| 121/121 [00:54<00:00,  2.24it/s]\n",
            "100%|██████████| 52/52 [00:06<00:00,  8.56it/s]\n",
            "  0%|          | 0/121 [00:00<?, ?it/s]"
          ],
          "name": "stderr"
        },
        {
          "output_type": "stream",
          "text": [
            "\n",
            "Test set: Average loss: 0.0067, Accuracy: 3496/33000 (10.59%)\n",
            "\n",
            "accuracy increased, Saving model....\n",
            "EPOCH: 3 LR: 0.06\n"
          ],
          "name": "stdout"
        },
        {
          "output_type": "stream",
          "text": [
            "Loss=4.033308506011963 Batch_id=120 Accuracy=12.51: 100%|██████████| 121/121 [00:54<00:00,  2.23it/s]\n",
            "100%|██████████| 52/52 [00:06<00:00,  8.64it/s]\n",
            "  0%|          | 0/121 [00:00<?, ?it/s]"
          ],
          "name": "stderr"
        },
        {
          "output_type": "stream",
          "text": [
            "\n",
            "Test set: Average loss: 0.0063, Accuracy: 4615/33000 (13.98%)\n",
            "\n",
            "accuracy increased, Saving model....\n",
            "EPOCH: 4 LR: 0.08\n"
          ],
          "name": "stdout"
        },
        {
          "output_type": "stream",
          "text": [
            "Loss=3.7080440521240234 Batch_id=120 Accuracy=15.51: 100%|██████████| 121/121 [00:54<00:00,  2.24it/s]\n",
            "100%|██████████| 52/52 [00:06<00:00,  8.54it/s]\n",
            "  0%|          | 0/121 [00:00<?, ?it/s]"
          ],
          "name": "stderr"
        },
        {
          "output_type": "stream",
          "text": [
            "\n",
            "Test set: Average loss: 0.0067, Accuracy: 4446/33000 (13.47%)\n",
            "\n",
            "EPOCH: 5 LR: 0.1\n"
          ],
          "name": "stdout"
        },
        {
          "output_type": "stream",
          "text": [
            "Loss=3.6000401973724365 Batch_id=120 Accuracy=17.81: 100%|██████████| 121/121 [00:54<00:00,  2.23it/s]\n",
            "100%|██████████| 52/52 [00:06<00:00,  8.45it/s]\n",
            "  0%|          | 0/121 [00:00<?, ?it/s]"
          ],
          "name": "stderr"
        },
        {
          "output_type": "stream",
          "text": [
            "\n",
            "Test set: Average loss: 0.0060, Accuracy: 5839/33000 (17.69%)\n",
            "\n",
            "accuracy increased, Saving model....\n",
            "EPOCH: 6 LR: 0.12000000000000002\n"
          ],
          "name": "stdout"
        },
        {
          "output_type": "stream",
          "text": [
            "Loss=3.523977279663086 Batch_id=120 Accuracy=19.68: 100%|██████████| 121/121 [00:54<00:00,  2.24it/s]\n",
            "100%|██████████| 52/52 [00:06<00:00,  8.59it/s]\n",
            "  0%|          | 0/121 [00:00<?, ?it/s]"
          ],
          "name": "stderr"
        },
        {
          "output_type": "stream",
          "text": [
            "\n",
            "Test set: Average loss: 0.0059, Accuracy: 5996/33000 (18.17%)\n",
            "\n",
            "accuracy increased, Saving model....\n",
            "EPOCH: 7 LR: 0.14\n"
          ],
          "name": "stdout"
        },
        {
          "output_type": "stream",
          "text": [
            "Loss=3.375053644180298 Batch_id=120 Accuracy=21.34: 100%|██████████| 121/121 [00:53<00:00,  2.26it/s]\n",
            "100%|██████████| 52/52 [00:05<00:00,  8.90it/s]\n",
            "  0%|          | 0/121 [00:00<?, ?it/s]"
          ],
          "name": "stderr"
        },
        {
          "output_type": "stream",
          "text": [
            "\n",
            "Test set: Average loss: 0.0059, Accuracy: 6304/33000 (19.10%)\n",
            "\n",
            "accuracy increased, Saving model....\n",
            "EPOCH: 8 LR: 0.16\n"
          ],
          "name": "stdout"
        },
        {
          "output_type": "stream",
          "text": [
            "Loss=3.6396589279174805 Batch_id=120 Accuracy=23.04: 100%|██████████| 121/121 [00:53<00:00,  2.25it/s]\n",
            "100%|██████████| 52/52 [00:05<00:00,  9.05it/s]\n",
            "  0%|          | 0/121 [00:00<?, ?it/s]"
          ],
          "name": "stderr"
        },
        {
          "output_type": "stream",
          "text": [
            "\n",
            "Test set: Average loss: 0.0057, Accuracy: 6643/33000 (20.13%)\n",
            "\n",
            "accuracy increased, Saving model....\n",
            "EPOCH: 9 LR: 0.18\n"
          ],
          "name": "stdout"
        },
        {
          "output_type": "stream",
          "text": [
            "Loss=3.2126498222351074 Batch_id=120 Accuracy=24.60: 100%|██████████| 121/121 [00:53<00:00,  2.27it/s]\n",
            "100%|██████████| 52/52 [00:05<00:00,  8.82it/s]\n",
            "  0%|          | 0/121 [00:00<?, ?it/s]"
          ],
          "name": "stderr"
        },
        {
          "output_type": "stream",
          "text": [
            "\n",
            "Test set: Average loss: 0.0060, Accuracy: 6094/33000 (18.47%)\n",
            "\n",
            "EPOCH: 10 LR: 0.2\n"
          ],
          "name": "stdout"
        },
        {
          "output_type": "stream",
          "text": [
            "Loss=3.2018625736236572 Batch_id=120 Accuracy=25.81: 100%|██████████| 121/121 [00:53<00:00,  2.26it/s]\n",
            "100%|██████████| 52/52 [00:05<00:00,  8.93it/s]\n",
            "  0%|          | 0/121 [00:00<?, ?it/s]"
          ],
          "name": "stderr"
        },
        {
          "output_type": "stream",
          "text": [
            "\n",
            "Test set: Average loss: 0.0056, Accuracy: 7179/33000 (21.75%)\n",
            "\n",
            "accuracy increased, Saving model....\n",
            "EPOCH: 11 LR: 0.19010000000000002\n"
          ],
          "name": "stdout"
        },
        {
          "output_type": "stream",
          "text": [
            "Loss=3.3070671558380127 Batch_id=120 Accuracy=27.58: 100%|██████████| 121/121 [00:53<00:00,  2.25it/s]\n",
            "100%|██████████| 52/52 [00:05<00:00,  9.04it/s]\n",
            "  0%|          | 0/121 [00:00<?, ?it/s]"
          ],
          "name": "stderr"
        },
        {
          "output_type": "stream",
          "text": [
            "\n",
            "Test set: Average loss: 0.0058, Accuracy: 6907/33000 (20.93%)\n",
            "\n",
            "EPOCH: 12 LR: 0.1802\n"
          ],
          "name": "stdout"
        },
        {
          "output_type": "stream",
          "text": [
            "Loss=3.002899169921875 Batch_id=120 Accuracy=29.32: 100%|██████████| 121/121 [00:53<00:00,  2.27it/s]\n",
            "100%|██████████| 52/52 [00:05<00:00,  9.04it/s]\n",
            "  0%|          | 0/121 [00:00<?, ?it/s]"
          ],
          "name": "stderr"
        },
        {
          "output_type": "stream",
          "text": [
            "\n",
            "Test set: Average loss: 0.0053, Accuracy: 8081/33000 (24.49%)\n",
            "\n",
            "accuracy increased, Saving model....\n",
            "EPOCH: 13 LR: 0.1703\n"
          ],
          "name": "stdout"
        },
        {
          "output_type": "stream",
          "text": [
            "Loss=3.174387216567993 Batch_id=120 Accuracy=30.70: 100%|██████████| 121/121 [00:53<00:00,  2.25it/s]\n",
            "100%|██████████| 52/52 [00:05<00:00,  8.90it/s]\n",
            "  0%|          | 0/121 [00:00<?, ?it/s]"
          ],
          "name": "stderr"
        },
        {
          "output_type": "stream",
          "text": [
            "\n",
            "Test set: Average loss: 0.0049, Accuracy: 9371/33000 (28.40%)\n",
            "\n",
            "accuracy increased, Saving model....\n",
            "EPOCH: 14 LR: 0.16040000000000001\n"
          ],
          "name": "stdout"
        },
        {
          "output_type": "stream",
          "text": [
            "Loss=3.0044384002685547 Batch_id=120 Accuracy=32.18: 100%|██████████| 121/121 [00:53<00:00,  2.27it/s]\n",
            "100%|██████████| 52/52 [00:05<00:00,  8.92it/s]\n",
            "  0%|          | 0/121 [00:00<?, ?it/s]"
          ],
          "name": "stderr"
        },
        {
          "output_type": "stream",
          "text": [
            "\n",
            "Test set: Average loss: 0.0051, Accuracy: 8995/33000 (27.26%)\n",
            "\n",
            "EPOCH: 15 LR: 0.15050000000000002\n"
          ],
          "name": "stdout"
        },
        {
          "output_type": "stream",
          "text": [
            "Loss=2.7431108951568604 Batch_id=120 Accuracy=33.49: 100%|██████████| 121/121 [00:53<00:00,  2.25it/s]\n",
            "100%|██████████| 52/52 [00:05<00:00,  9.04it/s]\n",
            "  0%|          | 0/121 [00:00<?, ?it/s]"
          ],
          "name": "stderr"
        },
        {
          "output_type": "stream",
          "text": [
            "\n",
            "Test set: Average loss: 0.0049, Accuracy: 9651/33000 (29.25%)\n",
            "\n",
            "accuracy increased, Saving model....\n",
            "EPOCH: 16 LR: 0.1406\n"
          ],
          "name": "stdout"
        },
        {
          "output_type": "stream",
          "text": [
            "Loss=2.8219709396362305 Batch_id=120 Accuracy=34.71: 100%|██████████| 121/121 [00:53<00:00,  2.25it/s]\n",
            "100%|██████████| 52/52 [00:05<00:00,  8.96it/s]\n",
            "  0%|          | 0/121 [00:00<?, ?it/s]"
          ],
          "name": "stderr"
        },
        {
          "output_type": "stream",
          "text": [
            "\n",
            "Test set: Average loss: 0.0050, Accuracy: 9492/33000 (28.76%)\n",
            "\n",
            "EPOCH: 17 LR: 0.1307\n"
          ],
          "name": "stdout"
        },
        {
          "output_type": "stream",
          "text": [
            "Loss=2.6486642360687256 Batch_id=120 Accuracy=36.11: 100%|██████████| 121/121 [00:53<00:00,  2.26it/s]\n",
            "100%|██████████| 52/52 [00:05<00:00,  8.88it/s]\n",
            "  0%|          | 0/121 [00:00<?, ?it/s]"
          ],
          "name": "stderr"
        },
        {
          "output_type": "stream",
          "text": [
            "\n",
            "Test set: Average loss: 0.0047, Accuracy: 10452/33000 (31.67%)\n",
            "\n",
            "accuracy increased, Saving model....\n",
            "EPOCH: 18 LR: 0.1208\n"
          ],
          "name": "stdout"
        },
        {
          "output_type": "stream",
          "text": [
            "Loss=2.724994421005249 Batch_id=120 Accuracy=37.23: 100%|██████████| 121/121 [00:53<00:00,  2.25it/s]\n",
            "100%|██████████| 52/52 [00:05<00:00,  8.97it/s]\n",
            "  0%|          | 0/121 [00:00<?, ?it/s]"
          ],
          "name": "stderr"
        },
        {
          "output_type": "stream",
          "text": [
            "\n",
            "Test set: Average loss: 0.0049, Accuracy: 9912/33000 (30.04%)\n",
            "\n",
            "EPOCH: 19 LR: 0.1109\n"
          ],
          "name": "stdout"
        },
        {
          "output_type": "stream",
          "text": [
            "Loss=2.5601558685302734 Batch_id=120 Accuracy=38.75: 100%|██████████| 121/121 [00:53<00:00,  2.26it/s]\n",
            "100%|██████████| 52/52 [00:05<00:00,  8.92it/s]\n",
            "  0%|          | 0/121 [00:00<?, ?it/s]"
          ],
          "name": "stderr"
        },
        {
          "output_type": "stream",
          "text": [
            "\n",
            "Test set: Average loss: 0.0048, Accuracy: 10221/33000 (30.97%)\n",
            "\n",
            "EPOCH: 20 LR: 0.101\n"
          ],
          "name": "stdout"
        },
        {
          "output_type": "stream",
          "text": [
            "Loss=2.7339119911193848 Batch_id=120 Accuracy=39.92: 100%|██████████| 121/121 [00:53<00:00,  2.25it/s]\n",
            "100%|██████████| 52/52 [00:05<00:00,  8.80it/s]\n",
            "  0%|          | 0/121 [00:00<?, ?it/s]"
          ],
          "name": "stderr"
        },
        {
          "output_type": "stream",
          "text": [
            "\n",
            "Test set: Average loss: 0.0046, Accuracy: 10936/33000 (33.14%)\n",
            "\n",
            "accuracy increased, Saving model....\n",
            "EPOCH: 21 LR: 0.0911\n"
          ],
          "name": "stdout"
        },
        {
          "output_type": "stream",
          "text": [
            "Loss=2.3508493900299072 Batch_id=120 Accuracy=41.47: 100%|██████████| 121/121 [00:53<00:00,  2.25it/s]\n",
            "100%|██████████| 52/52 [00:05<00:00,  8.94it/s]\n",
            "  0%|          | 0/121 [00:00<?, ?it/s]"
          ],
          "name": "stderr"
        },
        {
          "output_type": "stream",
          "text": [
            "\n",
            "Test set: Average loss: 0.0046, Accuracy: 11087/33000 (33.60%)\n",
            "\n",
            "accuracy increased, Saving model....\n",
            "EPOCH: 22 LR: 0.08120000000000001\n"
          ],
          "name": "stdout"
        },
        {
          "output_type": "stream",
          "text": [
            "Loss=2.4767487049102783 Batch_id=120 Accuracy=42.66: 100%|██████████| 121/121 [00:53<00:00,  2.25it/s]\n",
            "100%|██████████| 52/52 [00:05<00:00,  8.90it/s]\n",
            "  0%|          | 0/121 [00:00<?, ?it/s]"
          ],
          "name": "stderr"
        },
        {
          "output_type": "stream",
          "text": [
            "\n",
            "Test set: Average loss: 0.0046, Accuracy: 11121/33000 (33.70%)\n",
            "\n",
            "accuracy increased, Saving model....\n",
            "EPOCH: 23 LR: 0.0713\n"
          ],
          "name": "stdout"
        },
        {
          "output_type": "stream",
          "text": [
            "Loss=2.314389944076538 Batch_id=120 Accuracy=43.96: 100%|██████████| 121/121 [00:53<00:00,  2.25it/s]\n",
            "100%|██████████| 52/52 [00:05<00:00,  8.90it/s]\n",
            "  0%|          | 0/121 [00:00<?, ?it/s]"
          ],
          "name": "stderr"
        },
        {
          "output_type": "stream",
          "text": [
            "\n",
            "Test set: Average loss: 0.0045, Accuracy: 11548/33000 (34.99%)\n",
            "\n",
            "accuracy increased, Saving model....\n",
            "EPOCH: 24 LR: 0.06140000000000001\n"
          ],
          "name": "stdout"
        },
        {
          "output_type": "stream",
          "text": [
            "Loss=2.309122085571289 Batch_id=120 Accuracy=45.50: 100%|██████████| 121/121 [00:53<00:00,  2.26it/s]\n",
            "100%|██████████| 52/52 [00:05<00:00,  8.97it/s]\n",
            "  0%|          | 0/121 [00:00<?, ?it/s]"
          ],
          "name": "stderr"
        },
        {
          "output_type": "stream",
          "text": [
            "\n",
            "Test set: Average loss: 0.0045, Accuracy: 11791/33000 (35.73%)\n",
            "\n",
            "accuracy increased, Saving model....\n",
            "EPOCH: 25 LR: 0.05149999999999999\n"
          ],
          "name": "stdout"
        },
        {
          "output_type": "stream",
          "text": [
            "Loss=2.2719709873199463 Batch_id=120 Accuracy=47.33: 100%|██████████| 121/121 [00:53<00:00,  2.26it/s]\n",
            "100%|██████████| 52/52 [00:05<00:00,  8.90it/s]\n",
            "  0%|          | 0/121 [00:00<?, ?it/s]"
          ],
          "name": "stderr"
        },
        {
          "output_type": "stream",
          "text": [
            "\n",
            "Test set: Average loss: 0.0043, Accuracy: 12229/33000 (37.06%)\n",
            "\n",
            "accuracy increased, Saving model....\n",
            "EPOCH: 26 LR: 0.0416\n"
          ],
          "name": "stdout"
        },
        {
          "output_type": "stream",
          "text": [
            "Loss=2.051671028137207 Batch_id=120 Accuracy=49.19: 100%|██████████| 121/121 [00:53<00:00,  2.26it/s]\n",
            "100%|██████████| 52/52 [00:05<00:00,  8.86it/s]\n",
            "  0%|          | 0/121 [00:00<?, ?it/s]"
          ],
          "name": "stderr"
        },
        {
          "output_type": "stream",
          "text": [
            "\n",
            "Test set: Average loss: 0.0043, Accuracy: 12490/33000 (37.85%)\n",
            "\n",
            "accuracy increased, Saving model....\n",
            "EPOCH: 27 LR: 0.031700000000000006\n"
          ],
          "name": "stdout"
        },
        {
          "output_type": "stream",
          "text": [
            "Loss=2.1622769832611084 Batch_id=120 Accuracy=51.30: 100%|██████████| 121/121 [00:53<00:00,  2.26it/s]\n",
            "100%|██████████| 52/52 [00:05<00:00,  8.94it/s]\n",
            "  0%|          | 0/121 [00:00<?, ?it/s]"
          ],
          "name": "stderr"
        },
        {
          "output_type": "stream",
          "text": [
            "\n",
            "Test set: Average loss: 0.0042, Accuracy: 12944/33000 (39.22%)\n",
            "\n",
            "accuracy increased, Saving model....\n",
            "EPOCH: 28 LR: 0.021799999999999986\n"
          ],
          "name": "stdout"
        },
        {
          "output_type": "stream",
          "text": [
            "Loss=1.8295974731445312 Batch_id=120 Accuracy=53.82: 100%|██████████| 121/121 [00:53<00:00,  2.24it/s]\n",
            "100%|██████████| 52/52 [00:05<00:00,  8.81it/s]\n",
            "  0%|          | 0/121 [00:00<?, ?it/s]"
          ],
          "name": "stderr"
        },
        {
          "output_type": "stream",
          "text": [
            "\n",
            "Test set: Average loss: 0.0043, Accuracy: 12778/33000 (38.72%)\n",
            "\n",
            "EPOCH: 29 LR: 0.011900000000000022\n"
          ],
          "name": "stdout"
        },
        {
          "output_type": "stream",
          "text": [
            "Loss=1.8239244222640991 Batch_id=120 Accuracy=56.74: 100%|██████████| 121/121 [00:53<00:00,  2.27it/s]\n",
            "100%|██████████| 52/52 [00:05<00:00,  8.98it/s]\n",
            "  0%|          | 0/121 [00:00<?, ?it/s]"
          ],
          "name": "stderr"
        },
        {
          "output_type": "stream",
          "text": [
            "\n",
            "Test set: Average loss: 0.0042, Accuracy: 13295/33000 (40.29%)\n",
            "\n",
            "accuracy increased, Saving model....\n",
            "EPOCH: 30 LR: 0.0020000000000000018\n"
          ],
          "name": "stdout"
        },
        {
          "output_type": "stream",
          "text": [
            "Loss=1.8457741737365723 Batch_id=120 Accuracy=59.56: 100%|██████████| 121/121 [00:53<00:00,  2.24it/s]\n",
            "100%|██████████| 52/52 [00:05<00:00,  9.03it/s]\n"
          ],
          "name": "stderr"
        },
        {
          "output_type": "stream",
          "text": [
            "\n",
            "Test set: Average loss: 0.0041, Accuracy: 13635/33000 (41.32%)\n",
            "\n",
            "accuracy increased, Saving model....\n"
          ],
          "name": "stdout"
        }
      ]
    },
    {
      "cell_type": "code",
      "metadata": {
        "id": "hwRucgysog_P",
        "colab_type": "code",
        "colab": {
          "base_uri": "https://localhost:8080/",
          "height": 1000
        },
        "outputId": "3ca87355-a946-45b9-be09-770584f97128"
      },
      "source": [
        "scheduler = OneCycleLR(optimizer, max_lr = 0.02, total_steps=None, epochs=10, steps_per_epoch=1, pct_start=1/2, anneal_strategy='linear', cycle_momentum=True, base_momentum=0.85, max_momentum=0.95, div_factor=10.0,final_div_factor =2)\n",
        "\n",
        "train_test.train_model(model,device,trainloader,testloader,optimizer,criterion,10,scheduler,batch_scheduler=False,best_acc = 41.32,path = \"tinymodel2.pt\")"
      ],
      "execution_count": 16,
      "outputs": [
        {
          "output_type": "stream",
          "text": [
            "\r  0%|          | 0/121 [00:00<?, ?it/s]"
          ],
          "name": "stderr"
        },
        {
          "output_type": "stream",
          "text": [
            "EPOCH: 1 LR: 0.002\n"
          ],
          "name": "stdout"
        },
        {
          "output_type": "stream",
          "text": [
            "Loss=1.7093144655227661 Batch_id=120 Accuracy=60.34: 100%|██████████| 121/121 [00:53<00:00,  2.26it/s]\n",
            "100%|██████████| 52/52 [00:05<00:00,  8.95it/s]\n",
            "  0%|          | 0/121 [00:00<?, ?it/s]"
          ],
          "name": "stderr"
        },
        {
          "output_type": "stream",
          "text": [
            "\n",
            "Test set: Average loss: 0.0041, Accuracy: 13566/33000 (41.11%)\n",
            "\n",
            "EPOCH: 2 LR: 0.006500000000000001\n"
          ],
          "name": "stdout"
        },
        {
          "output_type": "stream",
          "text": [
            "Loss=1.6788017749786377 Batch_id=120 Accuracy=60.45: 100%|██████████| 121/121 [00:53<00:00,  2.26it/s]\n",
            "100%|██████████| 52/52 [00:05<00:00,  9.04it/s]\n",
            "  0%|          | 0/121 [00:00<?, ?it/s]"
          ],
          "name": "stderr"
        },
        {
          "output_type": "stream",
          "text": [
            "\n",
            "Test set: Average loss: 0.0041, Accuracy: 13622/33000 (41.28%)\n",
            "\n",
            "EPOCH: 3 LR: 0.011000000000000001\n"
          ],
          "name": "stdout"
        },
        {
          "output_type": "stream",
          "text": [
            "Loss=1.5087016820907593 Batch_id=120 Accuracy=60.30: 100%|██████████| 121/121 [00:53<00:00,  2.25it/s]\n",
            "100%|██████████| 52/52 [00:05<00:00,  8.92it/s]\n",
            "  0%|          | 0/121 [00:00<?, ?it/s]"
          ],
          "name": "stderr"
        },
        {
          "output_type": "stream",
          "text": [
            "\n",
            "Test set: Average loss: 0.0042, Accuracy: 13456/33000 (40.78%)\n",
            "\n",
            "EPOCH: 4 LR: 0.015500000000000002\n"
          ],
          "name": "stdout"
        },
        {
          "output_type": "stream",
          "text": [
            "Loss=1.4438377618789673 Batch_id=120 Accuracy=60.55: 100%|██████████| 121/121 [00:53<00:00,  2.24it/s]\n",
            "100%|██████████| 52/52 [00:05<00:00,  8.95it/s]\n",
            "  0%|          | 0/121 [00:00<?, ?it/s]"
          ],
          "name": "stderr"
        },
        {
          "output_type": "stream",
          "text": [
            "\n",
            "Test set: Average loss: 0.0042, Accuracy: 13348/33000 (40.45%)\n",
            "\n",
            "EPOCH: 5 LR: 0.020000000000000004\n"
          ],
          "name": "stdout"
        },
        {
          "output_type": "stream",
          "text": [
            "Loss=1.529374361038208 Batch_id=120 Accuracy=60.99: 100%|██████████| 121/121 [00:53<00:00,  2.26it/s]\n",
            "100%|██████████| 52/52 [00:05<00:00,  8.94it/s]\n",
            "  0%|          | 0/121 [00:00<?, ?it/s]"
          ],
          "name": "stderr"
        },
        {
          "output_type": "stream",
          "text": [
            "\n",
            "Test set: Average loss: 0.0042, Accuracy: 13374/33000 (40.53%)\n",
            "\n",
            "EPOCH: 6 LR: 0.0162\n"
          ],
          "name": "stdout"
        },
        {
          "output_type": "stream",
          "text": [
            "Loss=1.2951000928878784 Batch_id=120 Accuracy=61.91: 100%|██████████| 121/121 [00:53<00:00,  2.25it/s]\n",
            "100%|██████████| 52/52 [00:05<00:00,  8.95it/s]\n",
            "  0%|          | 0/121 [00:00<?, ?it/s]"
          ],
          "name": "stderr"
        },
        {
          "output_type": "stream",
          "text": [
            "\n",
            "Test set: Average loss: 0.0043, Accuracy: 13309/33000 (40.33%)\n",
            "\n",
            "EPOCH: 7 LR: 0.012400000000000001\n"
          ],
          "name": "stdout"
        },
        {
          "output_type": "stream",
          "text": [
            "Loss=1.1657923460006714 Batch_id=120 Accuracy=62.54: 100%|██████████| 121/121 [00:53<00:00,  2.25it/s]\n",
            "100%|██████████| 52/52 [00:05<00:00,  8.87it/s]\n",
            "  0%|          | 0/121 [00:00<?, ?it/s]"
          ],
          "name": "stderr"
        },
        {
          "output_type": "stream",
          "text": [
            "\n",
            "Test set: Average loss: 0.0042, Accuracy: 13498/33000 (40.90%)\n",
            "\n",
            "EPOCH: 8 LR: 0.008600000000000002\n"
          ],
          "name": "stdout"
        },
        {
          "output_type": "stream",
          "text": [
            "Loss=1.408919334411621 Batch_id=120 Accuracy=63.26: 100%|██████████| 121/121 [00:53<00:00,  2.25it/s]\n",
            "100%|██████████| 52/52 [00:05<00:00,  8.95it/s]\n",
            "  0%|          | 0/121 [00:00<?, ?it/s]"
          ],
          "name": "stderr"
        },
        {
          "output_type": "stream",
          "text": [
            "\n",
            "Test set: Average loss: 0.0043, Accuracy: 13375/33000 (40.53%)\n",
            "\n",
            "EPOCH: 9 LR: 0.0048000000000000004\n"
          ],
          "name": "stdout"
        },
        {
          "output_type": "stream",
          "text": [
            "Loss=1.431555986404419 Batch_id=120 Accuracy=64.29: 100%|██████████| 121/121 [00:53<00:00,  2.25it/s]\n",
            "100%|██████████| 52/52 [00:05<00:00,  8.92it/s]\n",
            "  0%|          | 0/121 [00:00<?, ?it/s]"
          ],
          "name": "stderr"
        },
        {
          "output_type": "stream",
          "text": [
            "\n",
            "Test set: Average loss: 0.0042, Accuracy: 13489/33000 (40.88%)\n",
            "\n",
            "EPOCH: 10 LR: 0.0010000000000000009\n"
          ],
          "name": "stdout"
        },
        {
          "output_type": "stream",
          "text": [
            "Loss=1.2244683504104614 Batch_id=120 Accuracy=65.69: 100%|██████████| 121/121 [00:53<00:00,  2.25it/s]\n",
            "100%|██████████| 52/52 [00:05<00:00,  9.03it/s]"
          ],
          "name": "stderr"
        },
        {
          "output_type": "stream",
          "text": [
            "\n",
            "Test set: Average loss: 0.0042, Accuracy: 13591/33000 (41.18%)\n",
            "\n"
          ],
          "name": "stdout"
        },
        {
          "output_type": "stream",
          "text": [
            "\n"
          ],
          "name": "stderr"
        }
      ]
    },
    {
      "cell_type": "code",
      "metadata": {
        "id": "-cf1BWDWwiUf",
        "colab_type": "code",
        "colab": {
          "base_uri": "https://localhost:8080/",
          "height": 231
        },
        "outputId": "02da4594-3fd1-4ebb-a5f3-e3585d38bfca"
      },
      "source": [
        "model = torchvision.models.resnet18(pretrained=False, num_classes=200).to(device)\n",
        "optimizer = optim.SGD(model.parameters(), lr=0.01,momentum=0.9,weight_decay = 0.0001,nesterov = True ) \n",
        "checkpoint = torch.load(\"tinymodel.pt\")\n",
        "model.load_state_dict(checkpoint['model_state_dict'])\n",
        "optimizer.load_state_dict(checkpoint['optimizer_state_dict'])\n",
        "\n",
        "model.eval()\n",
        "print(\"Loaded the best model\")"
      ],
      "execution_count": 1,
      "outputs": [
        {
          "output_type": "error",
          "ename": "NameError",
          "evalue": "ignored",
          "traceback": [
            "\u001b[0;31m---------------------------------------------------------------------------\u001b[0m",
            "\u001b[0;31mNameError\u001b[0m                                 Traceback (most recent call last)",
            "\u001b[0;32m<ipython-input-1-b585c9f0dace>\u001b[0m in \u001b[0;36m<module>\u001b[0;34m()\u001b[0m\n\u001b[0;32m----> 1\u001b[0;31m \u001b[0mmodel\u001b[0m \u001b[0;34m=\u001b[0m \u001b[0mtorchvision\u001b[0m\u001b[0;34m.\u001b[0m\u001b[0mmodels\u001b[0m\u001b[0;34m.\u001b[0m\u001b[0mresnet18\u001b[0m\u001b[0;34m(\u001b[0m\u001b[0mpretrained\u001b[0m\u001b[0;34m=\u001b[0m\u001b[0;32mFalse\u001b[0m\u001b[0;34m,\u001b[0m \u001b[0mnum_classes\u001b[0m\u001b[0;34m=\u001b[0m\u001b[0;36m200\u001b[0m\u001b[0;34m)\u001b[0m\u001b[0;34m.\u001b[0m\u001b[0mto\u001b[0m\u001b[0;34m(\u001b[0m\u001b[0mdevice\u001b[0m\u001b[0;34m)\u001b[0m\u001b[0;34m\u001b[0m\u001b[0;34m\u001b[0m\u001b[0m\n\u001b[0m\u001b[1;32m      2\u001b[0m \u001b[0moptimizer\u001b[0m \u001b[0;34m=\u001b[0m \u001b[0moptim\u001b[0m\u001b[0;34m.\u001b[0m\u001b[0mSGD\u001b[0m\u001b[0;34m(\u001b[0m\u001b[0mmodel\u001b[0m\u001b[0;34m.\u001b[0m\u001b[0mparameters\u001b[0m\u001b[0;34m(\u001b[0m\u001b[0;34m)\u001b[0m\u001b[0;34m,\u001b[0m \u001b[0mlr\u001b[0m\u001b[0;34m=\u001b[0m\u001b[0;36m0.01\u001b[0m\u001b[0;34m,\u001b[0m\u001b[0mmomentum\u001b[0m\u001b[0;34m=\u001b[0m\u001b[0;36m0.9\u001b[0m\u001b[0;34m,\u001b[0m\u001b[0mweight_decay\u001b[0m \u001b[0;34m=\u001b[0m \u001b[0;36m0.0001\u001b[0m\u001b[0;34m,\u001b[0m\u001b[0mnesterov\u001b[0m \u001b[0;34m=\u001b[0m \u001b[0;32mTrue\u001b[0m \u001b[0;34m)\u001b[0m\u001b[0;34m\u001b[0m\u001b[0;34m\u001b[0m\u001b[0m\n\u001b[1;32m      3\u001b[0m \u001b[0mcheckpoint\u001b[0m \u001b[0;34m=\u001b[0m \u001b[0mtorch\u001b[0m\u001b[0;34m.\u001b[0m\u001b[0mload\u001b[0m\u001b[0;34m(\u001b[0m\u001b[0;34m\"tinymodel.pt\"\u001b[0m\u001b[0;34m)\u001b[0m\u001b[0;34m\u001b[0m\u001b[0;34m\u001b[0m\u001b[0m\n\u001b[1;32m      4\u001b[0m \u001b[0mmodel\u001b[0m\u001b[0;34m.\u001b[0m\u001b[0mload_state_dict\u001b[0m\u001b[0;34m(\u001b[0m\u001b[0mcheckpoint\u001b[0m\u001b[0;34m[\u001b[0m\u001b[0;34m'model_state_dict'\u001b[0m\u001b[0;34m]\u001b[0m\u001b[0;34m)\u001b[0m\u001b[0;34m\u001b[0m\u001b[0;34m\u001b[0m\u001b[0m\n\u001b[1;32m      5\u001b[0m \u001b[0moptimizer\u001b[0m\u001b[0;34m.\u001b[0m\u001b[0mload_state_dict\u001b[0m\u001b[0;34m(\u001b[0m\u001b[0mcheckpoint\u001b[0m\u001b[0;34m[\u001b[0m\u001b[0;34m'optimizer_state_dict'\u001b[0m\u001b[0;34m]\u001b[0m\u001b[0;34m)\u001b[0m\u001b[0;34m\u001b[0m\u001b[0;34m\u001b[0m\u001b[0m\n",
            "\u001b[0;31mNameError\u001b[0m: name 'torchvision' is not defined"
          ]
        }
      ]
    },
    {
      "cell_type": "code",
      "metadata": {
        "id": "rZrSyGKfb8jc",
        "colab_type": "code",
        "colab": {
          "base_uri": "https://localhost:8080/",
          "height": 1000
        },
        "outputId": "b63a4b6a-c09e-44bf-cac7-2a9730f09aa0"
      },
      "source": [
        "scheduler = torch.optim.lr_scheduler.ReduceLROnPlateau(optimizer, mode='min', factor=0.1, patience=2, verbose=False, threshold=0.0001, threshold_mode='abs', cooldown=0, min_lr=0, eps=1e-08)\n",
        "train_test.train_model(model,device,trainloader,testloader,optimizer,criterion,10,scheduler,batch_scheduler=False,best_acc = 41.18,path = \"tinymodel2.pt\")"
      ],
      "execution_count": 21,
      "outputs": [
        {
          "output_type": "stream",
          "text": [
            "\r  0%|          | 0/121 [00:00<?, ?it/s]"
          ],
          "name": "stderr"
        },
        {
          "output_type": "stream",
          "text": [
            "EPOCH: 1 LR: 0.0025\n"
          ],
          "name": "stdout"
        },
        {
          "output_type": "stream",
          "text": [
            "Loss=1.5899193286895752 Batch_id=120 Accuracy=60.16: 100%|██████████| 121/121 [00:54<00:00,  2.22it/s]\n",
            "100%|██████████| 52/52 [00:05<00:00,  8.74it/s]\n",
            "  0%|          | 0/121 [00:00<?, ?it/s]"
          ],
          "name": "stderr"
        },
        {
          "output_type": "stream",
          "text": [
            "\n",
            "Test set: Average loss: 0.0041, Accuracy: 13568/33000 (41.12%)\n",
            "\n",
            "EPOCH: 2 LR: 0.006875000000000001\n"
          ],
          "name": "stdout"
        },
        {
          "output_type": "stream",
          "text": [
            "Loss=1.6240665912628174 Batch_id=120 Accuracy=60.21: 100%|██████████| 121/121 [00:54<00:00,  2.22it/s]\n",
            "100%|██████████| 52/52 [00:05<00:00,  8.84it/s]\n",
            "  0%|          | 0/121 [00:00<?, ?it/s]"
          ],
          "name": "stderr"
        },
        {
          "output_type": "stream",
          "text": [
            "\n",
            "Test set: Average loss: 0.0041, Accuracy: 13538/33000 (41.02%)\n",
            "\n",
            "EPOCH: 3 LR: 0.011250000000000001\n"
          ],
          "name": "stdout"
        },
        {
          "output_type": "stream",
          "text": [
            "Loss=1.5792006254196167 Batch_id=120 Accuracy=60.44: 100%|██████████| 121/121 [00:54<00:00,  2.23it/s]\n",
            "100%|██████████| 52/52 [00:05<00:00,  8.90it/s]\n",
            "  0%|          | 0/121 [00:00<?, ?it/s]"
          ],
          "name": "stderr"
        },
        {
          "output_type": "stream",
          "text": [
            "\n",
            "Test set: Average loss: 0.0042, Accuracy: 13471/33000 (40.82%)\n",
            "\n",
            "EPOCH: 4 LR: 0.015625\n"
          ],
          "name": "stdout"
        },
        {
          "output_type": "stream",
          "text": [
            "Loss=1.6191127300262451 Batch_id=120 Accuracy=60.76: 100%|██████████| 121/121 [00:53<00:00,  2.25it/s]\n",
            "100%|██████████| 52/52 [00:05<00:00,  8.74it/s]\n",
            "  0%|          | 0/121 [00:00<?, ?it/s]"
          ],
          "name": "stderr"
        },
        {
          "output_type": "stream",
          "text": [
            "\n",
            "Test set: Average loss: 0.0042, Accuracy: 13353/33000 (40.46%)\n",
            "\n",
            "EPOCH: 5 LR: 0.02\n"
          ],
          "name": "stdout"
        },
        {
          "output_type": "stream",
          "text": [
            "Loss=1.4708439111709595 Batch_id=120 Accuracy=60.99: 100%|██████████| 121/121 [00:54<00:00,  2.23it/s]\n",
            "100%|██████████| 52/52 [00:05<00:00,  8.74it/s]\n",
            "  0%|          | 0/121 [00:00<?, ?it/s]"
          ],
          "name": "stderr"
        },
        {
          "output_type": "stream",
          "text": [
            "\n",
            "Test set: Average loss: 0.0042, Accuracy: 13265/33000 (40.20%)\n",
            "\n",
            "EPOCH: 6 LR: 0.0165\n"
          ],
          "name": "stdout"
        },
        {
          "output_type": "stream",
          "text": [
            "Loss=1.3534084558486938 Batch_id=120 Accuracy=61.95: 100%|██████████| 121/121 [00:54<00:00,  2.24it/s]\n",
            "100%|██████████| 52/52 [00:05<00:00,  8.91it/s]\n",
            "  0%|          | 0/121 [00:00<?, ?it/s]"
          ],
          "name": "stderr"
        },
        {
          "output_type": "stream",
          "text": [
            "\n",
            "Test set: Average loss: 0.0042, Accuracy: 13429/33000 (40.69%)\n",
            "\n",
            "EPOCH: 7 LR: 0.013\n"
          ],
          "name": "stdout"
        },
        {
          "output_type": "stream",
          "text": [
            "Loss=1.6659420728683472 Batch_id=120 Accuracy=62.22: 100%|██████████| 121/121 [00:54<00:00,  2.24it/s]\n",
            "100%|██████████| 52/52 [00:05<00:00,  8.81it/s]\n",
            "  0%|          | 0/121 [00:00<?, ?it/s]"
          ],
          "name": "stderr"
        },
        {
          "output_type": "stream",
          "text": [
            "\n",
            "Test set: Average loss: 0.0043, Accuracy: 13402/33000 (40.61%)\n",
            "\n",
            "EPOCH: 8 LR: 0.0095\n"
          ],
          "name": "stdout"
        },
        {
          "output_type": "stream",
          "text": [
            "Loss=1.4355766773223877 Batch_id=120 Accuracy=63.39: 100%|██████████| 121/121 [00:53<00:00,  2.25it/s]\n",
            "100%|██████████| 52/52 [00:05<00:00,  8.81it/s]\n",
            "  0%|          | 0/121 [00:00<?, ?it/s]"
          ],
          "name": "stderr"
        },
        {
          "output_type": "stream",
          "text": [
            "\n",
            "Test set: Average loss: 0.0043, Accuracy: 13308/33000 (40.33%)\n",
            "\n",
            "EPOCH: 9 LR: 0.005999999999999998\n"
          ],
          "name": "stdout"
        },
        {
          "output_type": "stream",
          "text": [
            "Loss=1.5020170211791992 Batch_id=120 Accuracy=64.34: 100%|██████████| 121/121 [00:54<00:00,  2.22it/s]\n",
            "100%|██████████| 52/52 [00:05<00:00,  8.79it/s]\n",
            "  0%|          | 0/121 [00:00<?, ?it/s]"
          ],
          "name": "stderr"
        },
        {
          "output_type": "stream",
          "text": [
            "\n",
            "Test set: Average loss: 0.0043, Accuracy: 13409/33000 (40.63%)\n",
            "\n",
            "EPOCH: 10 LR: 0.0024999999999999988\n"
          ],
          "name": "stdout"
        },
        {
          "output_type": "stream",
          "text": [
            "Loss=1.427731990814209 Batch_id=120 Accuracy=65.26: 100%|██████████| 121/121 [00:54<00:00,  2.21it/s]\n",
            "100%|██████████| 52/52 [00:05<00:00,  8.79it/s]"
          ],
          "name": "stderr"
        },
        {
          "output_type": "stream",
          "text": [
            "\n",
            "Test set: Average loss: 0.0042, Accuracy: 13492/33000 (40.88%)\n",
            "\n"
          ],
          "name": "stdout"
        },
        {
          "output_type": "stream",
          "text": [
            "\n"
          ],
          "name": "stderr"
        }
      ]
    },
    {
      "cell_type": "code",
      "metadata": {
        "id": "OJ3-JmItcdi6",
        "colab_type": "code",
        "colab": {}
      },
      "source": [
        ""
      ],
      "execution_count": 0,
      "outputs": []
    }
  ]
}