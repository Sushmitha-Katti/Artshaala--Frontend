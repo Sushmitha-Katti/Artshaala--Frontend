{
  "nbformat": 4,
  "nbformat_minor": 0,
  "metadata": {
    "colab": {
      "name": "CIFAR10-RESNET18n .ipynb",
      "provenance": [],
      "authorship_tag": "ABX9TyPULRz7NoufmruASP1tcBxx",
      "include_colab_link": true
    },
    "kernelspec": {
      "name": "python3",
      "display_name": "Python 3"
    },
    "language_info": {
      "name": "python"
    },
    "accelerator": "GPU",
    "widgets": {
      "application/vnd.jupyter.widget-state+json": {
        "3379d47085d04d34911f726f34308bf1": {
          "model_module": "@jupyter-widgets/controls",
          "model_name": "HBoxModel",
          "model_module_version": "1.5.0",
          "state": {
            "_view_name": "HBoxView",
            "_dom_classes": [],
            "_model_name": "HBoxModel",
            "_view_module": "@jupyter-widgets/controls",
            "_model_module_version": "1.5.0",
            "_view_count": null,
            "_view_module_version": "1.5.0",
            "box_style": "",
            "layout": "IPY_MODEL_422acfc390e046a6a90c3b19285b5e92",
            "_model_module": "@jupyter-widgets/controls",
            "children": [
              "IPY_MODEL_2d3c9b7b1ba94dca9b510d2a8aae7abd",
              "IPY_MODEL_bb748b2f710f41dca7ff35a463a87cd6",
              "IPY_MODEL_4cb13e6e8a1a4140a65f6864d00a0a90"
            ]
          }
        },
        "422acfc390e046a6a90c3b19285b5e92": {
          "model_module": "@jupyter-widgets/base",
          "model_name": "LayoutModel",
          "model_module_version": "1.2.0",
          "state": {
            "_view_name": "LayoutView",
            "grid_template_rows": null,
            "right": null,
            "justify_content": null,
            "_view_module": "@jupyter-widgets/base",
            "overflow": null,
            "_model_module_version": "1.2.0",
            "_view_count": null,
            "flex_flow": null,
            "width": null,
            "min_width": null,
            "border": null,
            "align_items": null,
            "bottom": null,
            "_model_module": "@jupyter-widgets/base",
            "top": null,
            "grid_column": null,
            "overflow_y": null,
            "overflow_x": null,
            "grid_auto_flow": null,
            "grid_area": null,
            "grid_template_columns": null,
            "flex": null,
            "_model_name": "LayoutModel",
            "justify_items": null,
            "grid_row": null,
            "max_height": null,
            "align_content": null,
            "visibility": null,
            "align_self": null,
            "height": null,
            "min_height": null,
            "padding": null,
            "grid_auto_rows": null,
            "grid_gap": null,
            "max_width": null,
            "order": null,
            "_view_module_version": "1.2.0",
            "grid_template_areas": null,
            "object_position": null,
            "object_fit": null,
            "grid_auto_columns": null,
            "margin": null,
            "display": null,
            "left": null
          }
        },
        "2d3c9b7b1ba94dca9b510d2a8aae7abd": {
          "model_module": "@jupyter-widgets/controls",
          "model_name": "HTMLModel",
          "model_module_version": "1.5.0",
          "state": {
            "_view_name": "HTMLView",
            "style": "IPY_MODEL_f5a386f4da2d418fb424fb9c12c29a5d",
            "_dom_classes": [],
            "description": "",
            "_model_name": "HTMLModel",
            "placeholder": "​",
            "_view_module": "@jupyter-widgets/controls",
            "_model_module_version": "1.5.0",
            "value": "",
            "_view_count": null,
            "_view_module_version": "1.5.0",
            "description_tooltip": null,
            "_model_module": "@jupyter-widgets/controls",
            "layout": "IPY_MODEL_4c4e8c8d880d4b0b9ee958a150e2ab24"
          }
        },
        "bb748b2f710f41dca7ff35a463a87cd6": {
          "model_module": "@jupyter-widgets/controls",
          "model_name": "FloatProgressModel",
          "model_module_version": "1.5.0",
          "state": {
            "_view_name": "ProgressView",
            "style": "IPY_MODEL_7bf1b66c1c3f4e808ddd32babe63e780",
            "_dom_classes": [],
            "description": "",
            "_model_name": "FloatProgressModel",
            "bar_style": "success",
            "max": 170498071,
            "_view_module": "@jupyter-widgets/controls",
            "_model_module_version": "1.5.0",
            "value": 170498071,
            "_view_count": null,
            "_view_module_version": "1.5.0",
            "orientation": "horizontal",
            "min": 0,
            "description_tooltip": null,
            "_model_module": "@jupyter-widgets/controls",
            "layout": "IPY_MODEL_9705fb52ebf74bf3ba69ffe99ed53881"
          }
        },
        "4cb13e6e8a1a4140a65f6864d00a0a90": {
          "model_module": "@jupyter-widgets/controls",
          "model_name": "HTMLModel",
          "model_module_version": "1.5.0",
          "state": {
            "_view_name": "HTMLView",
            "style": "IPY_MODEL_7f7ec07af82f493ab433afa2a6c6ce05",
            "_dom_classes": [],
            "description": "",
            "_model_name": "HTMLModel",
            "placeholder": "​",
            "_view_module": "@jupyter-widgets/controls",
            "_model_module_version": "1.5.0",
            "value": " 170499072/? [00:03&lt;00:00, 54865539.72it/s]",
            "_view_count": null,
            "_view_module_version": "1.5.0",
            "description_tooltip": null,
            "_model_module": "@jupyter-widgets/controls",
            "layout": "IPY_MODEL_5b20e8897e0f48eb84f2019731a40f36"
          }
        },
        "f5a386f4da2d418fb424fb9c12c29a5d": {
          "model_module": "@jupyter-widgets/controls",
          "model_name": "DescriptionStyleModel",
          "model_module_version": "1.5.0",
          "state": {
            "_view_name": "StyleView",
            "_model_name": "DescriptionStyleModel",
            "description_width": "",
            "_view_module": "@jupyter-widgets/base",
            "_model_module_version": "1.5.0",
            "_view_count": null,
            "_view_module_version": "1.2.0",
            "_model_module": "@jupyter-widgets/controls"
          }
        },
        "4c4e8c8d880d4b0b9ee958a150e2ab24": {
          "model_module": "@jupyter-widgets/base",
          "model_name": "LayoutModel",
          "model_module_version": "1.2.0",
          "state": {
            "_view_name": "LayoutView",
            "grid_template_rows": null,
            "right": null,
            "justify_content": null,
            "_view_module": "@jupyter-widgets/base",
            "overflow": null,
            "_model_module_version": "1.2.0",
            "_view_count": null,
            "flex_flow": null,
            "width": null,
            "min_width": null,
            "border": null,
            "align_items": null,
            "bottom": null,
            "_model_module": "@jupyter-widgets/base",
            "top": null,
            "grid_column": null,
            "overflow_y": null,
            "overflow_x": null,
            "grid_auto_flow": null,
            "grid_area": null,
            "grid_template_columns": null,
            "flex": null,
            "_model_name": "LayoutModel",
            "justify_items": null,
            "grid_row": null,
            "max_height": null,
            "align_content": null,
            "visibility": null,
            "align_self": null,
            "height": null,
            "min_height": null,
            "padding": null,
            "grid_auto_rows": null,
            "grid_gap": null,
            "max_width": null,
            "order": null,
            "_view_module_version": "1.2.0",
            "grid_template_areas": null,
            "object_position": null,
            "object_fit": null,
            "grid_auto_columns": null,
            "margin": null,
            "display": null,
            "left": null
          }
        },
        "7bf1b66c1c3f4e808ddd32babe63e780": {
          "model_module": "@jupyter-widgets/controls",
          "model_name": "ProgressStyleModel",
          "model_module_version": "1.5.0",
          "state": {
            "_view_name": "StyleView",
            "_model_name": "ProgressStyleModel",
            "description_width": "",
            "_view_module": "@jupyter-widgets/base",
            "_model_module_version": "1.5.0",
            "_view_count": null,
            "_view_module_version": "1.2.0",
            "bar_color": null,
            "_model_module": "@jupyter-widgets/controls"
          }
        },
        "9705fb52ebf74bf3ba69ffe99ed53881": {
          "model_module": "@jupyter-widgets/base",
          "model_name": "LayoutModel",
          "model_module_version": "1.2.0",
          "state": {
            "_view_name": "LayoutView",
            "grid_template_rows": null,
            "right": null,
            "justify_content": null,
            "_view_module": "@jupyter-widgets/base",
            "overflow": null,
            "_model_module_version": "1.2.0",
            "_view_count": null,
            "flex_flow": null,
            "width": null,
            "min_width": null,
            "border": null,
            "align_items": null,
            "bottom": null,
            "_model_module": "@jupyter-widgets/base",
            "top": null,
            "grid_column": null,
            "overflow_y": null,
            "overflow_x": null,
            "grid_auto_flow": null,
            "grid_area": null,
            "grid_template_columns": null,
            "flex": null,
            "_model_name": "LayoutModel",
            "justify_items": null,
            "grid_row": null,
            "max_height": null,
            "align_content": null,
            "visibility": null,
            "align_self": null,
            "height": null,
            "min_height": null,
            "padding": null,
            "grid_auto_rows": null,
            "grid_gap": null,
            "max_width": null,
            "order": null,
            "_view_module_version": "1.2.0",
            "grid_template_areas": null,
            "object_position": null,
            "object_fit": null,
            "grid_auto_columns": null,
            "margin": null,
            "display": null,
            "left": null
          }
        },
        "7f7ec07af82f493ab433afa2a6c6ce05": {
          "model_module": "@jupyter-widgets/controls",
          "model_name": "DescriptionStyleModel",
          "model_module_version": "1.5.0",
          "state": {
            "_view_name": "StyleView",
            "_model_name": "DescriptionStyleModel",
            "description_width": "",
            "_view_module": "@jupyter-widgets/base",
            "_model_module_version": "1.5.0",
            "_view_count": null,
            "_view_module_version": "1.2.0",
            "_model_module": "@jupyter-widgets/controls"
          }
        },
        "5b20e8897e0f48eb84f2019731a40f36": {
          "model_module": "@jupyter-widgets/base",
          "model_name": "LayoutModel",
          "model_module_version": "1.2.0",
          "state": {
            "_view_name": "LayoutView",
            "grid_template_rows": null,
            "right": null,
            "justify_content": null,
            "_view_module": "@jupyter-widgets/base",
            "overflow": null,
            "_model_module_version": "1.2.0",
            "_view_count": null,
            "flex_flow": null,
            "width": null,
            "min_width": null,
            "border": null,
            "align_items": null,
            "bottom": null,
            "_model_module": "@jupyter-widgets/base",
            "top": null,
            "grid_column": null,
            "overflow_y": null,
            "overflow_x": null,
            "grid_auto_flow": null,
            "grid_area": null,
            "grid_template_columns": null,
            "flex": null,
            "_model_name": "LayoutModel",
            "justify_items": null,
            "grid_row": null,
            "max_height": null,
            "align_content": null,
            "visibility": null,
            "align_self": null,
            "height": null,
            "min_height": null,
            "padding": null,
            "grid_auto_rows": null,
            "grid_gap": null,
            "max_width": null,
            "order": null,
            "_view_module_version": "1.2.0",
            "grid_template_areas": null,
            "object_position": null,
            "object_fit": null,
            "grid_auto_columns": null,
            "margin": null,
            "display": null,
            "left": null
          }
        },
        "25ae5cf5301743379ca05f3340fe89e5": {
          "model_module": "@jupyter-widgets/controls",
          "model_name": "HBoxModel",
          "model_module_version": "1.5.0",
          "state": {
            "_view_name": "HBoxView",
            "_dom_classes": [],
            "_model_name": "HBoxModel",
            "_view_module": "@jupyter-widgets/controls",
            "_model_module_version": "1.5.0",
            "_view_count": null,
            "_view_module_version": "1.5.0",
            "box_style": "",
            "layout": "IPY_MODEL_962126b3ae3b444bb6b305bf6dd8a631",
            "_model_module": "@jupyter-widgets/controls",
            "children": [
              "IPY_MODEL_699b3e3742804a328c813beb2664ad7f",
              "IPY_MODEL_86e892a16b154acb8aaa700a992333ce",
              "IPY_MODEL_f86cc506201440f08e6ced1bed65feab"
            ]
          }
        },
        "962126b3ae3b444bb6b305bf6dd8a631": {
          "model_module": "@jupyter-widgets/base",
          "model_name": "LayoutModel",
          "model_module_version": "1.2.0",
          "state": {
            "_view_name": "LayoutView",
            "grid_template_rows": null,
            "right": null,
            "justify_content": null,
            "_view_module": "@jupyter-widgets/base",
            "overflow": null,
            "_model_module_version": "1.2.0",
            "_view_count": null,
            "flex_flow": null,
            "width": null,
            "min_width": null,
            "border": null,
            "align_items": null,
            "bottom": null,
            "_model_module": "@jupyter-widgets/base",
            "top": null,
            "grid_column": null,
            "overflow_y": null,
            "overflow_x": null,
            "grid_auto_flow": null,
            "grid_area": null,
            "grid_template_columns": null,
            "flex": null,
            "_model_name": "LayoutModel",
            "justify_items": null,
            "grid_row": null,
            "max_height": null,
            "align_content": null,
            "visibility": null,
            "align_self": null,
            "height": null,
            "min_height": null,
            "padding": null,
            "grid_auto_rows": null,
            "grid_gap": null,
            "max_width": null,
            "order": null,
            "_view_module_version": "1.2.0",
            "grid_template_areas": null,
            "object_position": null,
            "object_fit": null,
            "grid_auto_columns": null,
            "margin": null,
            "display": null,
            "left": null
          }
        },
        "699b3e3742804a328c813beb2664ad7f": {
          "model_module": "@jupyter-widgets/controls",
          "model_name": "HTMLModel",
          "model_module_version": "1.5.0",
          "state": {
            "_view_name": "HTMLView",
            "style": "IPY_MODEL_319584053aab441f8a3c30e439e2d8e2",
            "_dom_classes": [],
            "description": "",
            "_model_name": "HTMLModel",
            "placeholder": "​",
            "_view_module": "@jupyter-widgets/controls",
            "_model_module_version": "1.5.0",
            "value": "100%",
            "_view_count": null,
            "_view_module_version": "1.5.0",
            "description_tooltip": null,
            "_model_module": "@jupyter-widgets/controls",
            "layout": "IPY_MODEL_890df8ee680342f195d9100ecd96382b"
          }
        },
        "86e892a16b154acb8aaa700a992333ce": {
          "model_module": "@jupyter-widgets/controls",
          "model_name": "FloatProgressModel",
          "model_module_version": "1.5.0",
          "state": {
            "_view_name": "ProgressView",
            "style": "IPY_MODEL_f52964fa71714fc6985ae4439727f045",
            "_dom_classes": [],
            "description": "",
            "_model_name": "FloatProgressModel",
            "bar_style": "success",
            "max": 46830571,
            "_view_module": "@jupyter-widgets/controls",
            "_model_module_version": "1.5.0",
            "value": 46830571,
            "_view_count": null,
            "_view_module_version": "1.5.0",
            "orientation": "horizontal",
            "min": 0,
            "description_tooltip": null,
            "_model_module": "@jupyter-widgets/controls",
            "layout": "IPY_MODEL_d76fa151a8c8414685e84f8465d716cf"
          }
        },
        "f86cc506201440f08e6ced1bed65feab": {
          "model_module": "@jupyter-widgets/controls",
          "model_name": "HTMLModel",
          "model_module_version": "1.5.0",
          "state": {
            "_view_name": "HTMLView",
            "style": "IPY_MODEL_af440100cdbe41ffa971dd929137053b",
            "_dom_classes": [],
            "description": "",
            "_model_name": "HTMLModel",
            "placeholder": "​",
            "_view_module": "@jupyter-widgets/controls",
            "_model_module_version": "1.5.0",
            "value": " 44.7M/44.7M [00:00&lt;00:00, 77.5MB/s]",
            "_view_count": null,
            "_view_module_version": "1.5.0",
            "description_tooltip": null,
            "_model_module": "@jupyter-widgets/controls",
            "layout": "IPY_MODEL_4596bf18cf7745ba8fe5671c2ed4efc2"
          }
        },
        "319584053aab441f8a3c30e439e2d8e2": {
          "model_module": "@jupyter-widgets/controls",
          "model_name": "DescriptionStyleModel",
          "model_module_version": "1.5.0",
          "state": {
            "_view_name": "StyleView",
            "_model_name": "DescriptionStyleModel",
            "description_width": "",
            "_view_module": "@jupyter-widgets/base",
            "_model_module_version": "1.5.0",
            "_view_count": null,
            "_view_module_version": "1.2.0",
            "_model_module": "@jupyter-widgets/controls"
          }
        },
        "890df8ee680342f195d9100ecd96382b": {
          "model_module": "@jupyter-widgets/base",
          "model_name": "LayoutModel",
          "model_module_version": "1.2.0",
          "state": {
            "_view_name": "LayoutView",
            "grid_template_rows": null,
            "right": null,
            "justify_content": null,
            "_view_module": "@jupyter-widgets/base",
            "overflow": null,
            "_model_module_version": "1.2.0",
            "_view_count": null,
            "flex_flow": null,
            "width": null,
            "min_width": null,
            "border": null,
            "align_items": null,
            "bottom": null,
            "_model_module": "@jupyter-widgets/base",
            "top": null,
            "grid_column": null,
            "overflow_y": null,
            "overflow_x": null,
            "grid_auto_flow": null,
            "grid_area": null,
            "grid_template_columns": null,
            "flex": null,
            "_model_name": "LayoutModel",
            "justify_items": null,
            "grid_row": null,
            "max_height": null,
            "align_content": null,
            "visibility": null,
            "align_self": null,
            "height": null,
            "min_height": null,
            "padding": null,
            "grid_auto_rows": null,
            "grid_gap": null,
            "max_width": null,
            "order": null,
            "_view_module_version": "1.2.0",
            "grid_template_areas": null,
            "object_position": null,
            "object_fit": null,
            "grid_auto_columns": null,
            "margin": null,
            "display": null,
            "left": null
          }
        },
        "f52964fa71714fc6985ae4439727f045": {
          "model_module": "@jupyter-widgets/controls",
          "model_name": "ProgressStyleModel",
          "model_module_version": "1.5.0",
          "state": {
            "_view_name": "StyleView",
            "_model_name": "ProgressStyleModel",
            "description_width": "",
            "_view_module": "@jupyter-widgets/base",
            "_model_module_version": "1.5.0",
            "_view_count": null,
            "_view_module_version": "1.2.0",
            "bar_color": null,
            "_model_module": "@jupyter-widgets/controls"
          }
        },
        "d76fa151a8c8414685e84f8465d716cf": {
          "model_module": "@jupyter-widgets/base",
          "model_name": "LayoutModel",
          "model_module_version": "1.2.0",
          "state": {
            "_view_name": "LayoutView",
            "grid_template_rows": null,
            "right": null,
            "justify_content": null,
            "_view_module": "@jupyter-widgets/base",
            "overflow": null,
            "_model_module_version": "1.2.0",
            "_view_count": null,
            "flex_flow": null,
            "width": null,
            "min_width": null,
            "border": null,
            "align_items": null,
            "bottom": null,
            "_model_module": "@jupyter-widgets/base",
            "top": null,
            "grid_column": null,
            "overflow_y": null,
            "overflow_x": null,
            "grid_auto_flow": null,
            "grid_area": null,
            "grid_template_columns": null,
            "flex": null,
            "_model_name": "LayoutModel",
            "justify_items": null,
            "grid_row": null,
            "max_height": null,
            "align_content": null,
            "visibility": null,
            "align_self": null,
            "height": null,
            "min_height": null,
            "padding": null,
            "grid_auto_rows": null,
            "grid_gap": null,
            "max_width": null,
            "order": null,
            "_view_module_version": "1.2.0",
            "grid_template_areas": null,
            "object_position": null,
            "object_fit": null,
            "grid_auto_columns": null,
            "margin": null,
            "display": null,
            "left": null
          }
        },
        "af440100cdbe41ffa971dd929137053b": {
          "model_module": "@jupyter-widgets/controls",
          "model_name": "DescriptionStyleModel",
          "model_module_version": "1.5.0",
          "state": {
            "_view_name": "StyleView",
            "_model_name": "DescriptionStyleModel",
            "description_width": "",
            "_view_module": "@jupyter-widgets/base",
            "_model_module_version": "1.5.0",
            "_view_count": null,
            "_view_module_version": "1.2.0",
            "_model_module": "@jupyter-widgets/controls"
          }
        },
        "4596bf18cf7745ba8fe5671c2ed4efc2": {
          "model_module": "@jupyter-widgets/base",
          "model_name": "LayoutModel",
          "model_module_version": "1.2.0",
          "state": {
            "_view_name": "LayoutView",
            "grid_template_rows": null,
            "right": null,
            "justify_content": null,
            "_view_module": "@jupyter-widgets/base",
            "overflow": null,
            "_model_module_version": "1.2.0",
            "_view_count": null,
            "flex_flow": null,
            "width": null,
            "min_width": null,
            "border": null,
            "align_items": null,
            "bottom": null,
            "_model_module": "@jupyter-widgets/base",
            "top": null,
            "grid_column": null,
            "overflow_y": null,
            "overflow_x": null,
            "grid_auto_flow": null,
            "grid_area": null,
            "grid_template_columns": null,
            "flex": null,
            "_model_name": "LayoutModel",
            "justify_items": null,
            "grid_row": null,
            "max_height": null,
            "align_content": null,
            "visibility": null,
            "align_self": null,
            "height": null,
            "min_height": null,
            "padding": null,
            "grid_auto_rows": null,
            "grid_gap": null,
            "max_width": null,
            "order": null,
            "_view_module_version": "1.2.0",
            "grid_template_areas": null,
            "object_position": null,
            "object_fit": null,
            "grid_auto_columns": null,
            "margin": null,
            "display": null,
            "left": null
          }
        }
      }
    }
  },
  "cells": [
    {
      "cell_type": "markdown",
      "metadata": {
        "id": "view-in-github",
        "colab_type": "text"
      },
      "source": [
        "<a href=\"https://colab.research.google.com/github/Sushmitha-Katti/Artshaala--Frontend/blob/master/CIFAR10_RESNET18n_.ipynb\" target=\"_parent\"><img src=\"https://colab.research.google.com/assets/colab-badge.svg\" alt=\"Open In Colab\"/></a>"
      ]
    },
    {
      "cell_type": "markdown",
      "metadata": {
        "id": "dvWfgbKN455s"
      },
      "source": [
        "# CIFAR 10 data trained on RESNET 18 MODEL"
      ]
    },
    {
      "cell_type": "code",
      "metadata": {
        "id": "a67bR9OcvkOJ"
      },
      "source": [
        "import os\n",
        "import time\n",
        "import math\n",
        "\n",
        "import torch.nn.functional as F\n",
        "import torch\n",
        "import torch.nn as nn\n",
        "import torch.optim as optim\n",
        "import torchvision\n",
        "from torchvision import datasets, models, transforms\n",
        "import numpy as np\n",
        "import pandas as pd\n",
        "import matplotlib.pyplot as plt\n",
        "from tqdm import tqdm\n",
        "\n",
        "\n",
        "\n",
        "# --------------Training Method-------------------------------------------\n",
        "def train(model, device, train_loader, criterion, optimizer, epoch):\n",
        "    \"\"\"\n",
        "    trains the neural network once for complete dataset. Adds the Accracy and Loss to the metrics dictionary\n",
        "    Args: \n",
        "        model: neural network\n",
        "        device: cuda or cpu\n",
        "        train_loader: Train Dataset Loader\n",
        "        criterion: Loss Function\n",
        "        optimizer: Optimiser function\n",
        "        echo: Number for logging\n",
        "    \"\"\"\n",
        "    train_loss = 0.0\n",
        "    correct = 0\n",
        "    model.train()\n",
        "    pbar = tqdm(train_loader)\n",
        "    for batch_idx, (data, target) in enumerate(pbar):\n",
        "        data, target = data.to(device), target.to(device)\n",
        "        optimizer.zero_grad()\n",
        "        outputs = model(data)\n",
        "        loss = criterion(outputs, target)\n",
        "        loss.backward()\n",
        "        optimizer.step()\n",
        "        train_loss += loss.item()\n",
        "        _,pred = torch.max(outputs, dim=1)\n",
        "        correct += torch.sum(pred==target).item()\n",
        "        pbar.set_description(desc= f'epoch = {epoch} loss={loss.item()} batch_id={batch_idx}')\n",
        "    metrics['train_accuracy'].append(100 * correct / len(train_loader.dataset))\n",
        "    metrics['train_loss'].append(train_loss/len(train_loader))\n",
        "\n",
        "# -------------- Testing Method ------------------------------------------------\n",
        "def test(model, device, test_loader, criterion):\n",
        "    \"\"\"\n",
        "    tests the neural network once for complete dataset. Adds the total Accracy, Loss, classwise accuracy to the metrics dictionary.\n",
        "    Args:\n",
        "        model: neural network\n",
        "        device: cuda or cpu\n",
        "        train_loader: Train Dataset Loader\n",
        "        criterion: Loss Function\n",
        "        optimizer: Optimiser function\n",
        "        echo: Number for logging\n",
        "    \"\"\"\n",
        "    model.eval()\n",
        "    test_loss = 0\n",
        "    correct = 0\n",
        "    class_correct = {i: {'correct': 0, 'total': 0}  for i in range(len(class_names))}\n",
        "    with torch.no_grad():\n",
        "        for data, target in test_loader:\n",
        "            data, target = data.to(device), target.to(device)\n",
        "            outputs = model(data)\n",
        "            test_loss += criterion(outputs, target).item()  # sum up batch loss\n",
        "            _,pred = torch.max(outputs, dim=1)\n",
        "            correct += torch.sum(pred==target).item()\n",
        "            for i in class_correct:\n",
        "                class_correct[i]['correct'] += torch.sum((pred == target) * (target == i)).item()\n",
        "                class_correct[i]['total'] += torch.sum((target == i)).item()\n",
        "\n",
        "    test_loss /= len(test_loader)\n",
        "    metrics['test_accuracy'].append(100 * correct / len(test_loader.dataset))\n",
        "    metrics['test_loss'].append(test_loss)\n",
        "\n",
        "    # Class Wise Accuracy\n",
        "    for key, value in class_label_maping.items():\n",
        "        _acc = class_correct[value]['correct']/class_correct[value]['total'] * 100\n",
        "        metrics[key].append(_acc)\n",
        "\n",
        "    print(f'\\nTest set: Average loss: {test_loss:.4f}, Accuracy: {correct}/{len(test_loader.dataset)} ({100. * correct / len(test_loader.dataset):.2f}%)')\n",
        "\n",
        "\n",
        "# -------------- Main Train Model ------------------------------------------------------------\n",
        "\n",
        "def train_model(model, criterion, optimizer, num_epochs=2, checkpoint=None):\n",
        "    \"\"\"\n",
        "    A main method which calls both train and test method for each epoch and saves the best model\n",
        "    Args:\n",
        "        model: neural network\n",
        "        device: cuda or cpu\n",
        "        train_loader: Train Dataset Loader\n",
        "        criterion: Loss Function\n",
        "        optimizer: Optimiser function\n",
        "        echo: Number for logging\n",
        "    \"\"\"\n",
        "    since = time.time()\n",
        "    if checkpoint is None:\n",
        "        best_loss = math.inf\n",
        "    else:\n",
        "        print(f'Val loss: {checkpoint[\"best_loss\"]}')\n",
        "        model.load_state_dict(checkpoint['model_state_dict'])\n",
        "        optimizer.load_state_dict(checkpoint['optimizer_state_dict'])\n",
        "        best_loss = checkpoint['best_loss']\n",
        "\n",
        "    for epoch in range(num_epochs):\n",
        "        metrics['epoch'].append(epoch + 1)\n",
        "        train(model, device, trainloader, criterion, optimizer, epoch)\n",
        "        test(model, device, testloader, criterion)\n",
        "        # Check if the current model has less loss than best model and update accordingly\n",
        "        if metrics['test_loss'][-1] < best_loss:\n",
        "            best_loss = metrics['test_loss'][-1]\n",
        "            torch.save(model.state_dict(), CHECK_POINT_PATH)\n",
        "\n",
        "    time_elapsed = time.time() - since\n",
        "    print(f\"Training is Complete: Time taken is {time_elapsed//60}min {time_elapsed%60}sec\")\n",
        "\n",
        "# -------------------- Write Training Summary Markdown file -------------------------------------------------------\n",
        "def write_summary():\n",
        "    summary = \"<h1 align='center'>Training Summary</h1>\\n\"\n",
        "    summary += \"\\n\"\n",
        "    summary += \"## Data\\n\"\n",
        "    data_params = [[\n",
        "        'Total Train Data Set', len(trainset)\n",
        "        ],\n",
        "        [\n",
        "            'Total Test Data Set', len(testset)\n",
        "        ],\n",
        "        [\n",
        "            'Total Classes', len(class_names)\n",
        "        ],\n",
        "        [\n",
        "            'Class Names', \", \".join(class_names)\n",
        "        ],\n",
        "    ]\n",
        "    summary += pd.DataFrame(data_params, columns=['Description', 'value']).to_markdown()\n",
        "    summary += \"\\n\"\n",
        "    summary += \"## Model\\n\"\n",
        "    model_params = [[\n",
        "        'Model ', 'Resnet 18(Pretrained)'\n",
        "        ],\n",
        "        [\n",
        "            'Optimiser', 'SGD'\n",
        "        ],\n",
        "        [\n",
        "            'Loss function ', 'Cross Entropy(lr=0.001, momentum=0.9)'\n",
        "        ],\n",
        "        [\n",
        "            'Class Names', \", \".join(class_names)\n",
        "        ],\n",
        "    ]\n",
        "    summary += pd.DataFrame(model_params, columns=['Description', 'value']).to_markdown()\n",
        "    summary += \"\\n\"\n",
        "    summary += \"## Training\\n\"\n",
        "    summary += metrics_df.to_markdown()\n",
        "    summary += \"\\n\"\n",
        "\n",
        "    summary += \"## Graphs\\n\"\n",
        "    plt.plot(metrics['epoch'], metrics['train_loss'], label = \"Train Loss\")\n",
        "    plt.plot(metrics['epoch'], metrics['test_loss'], label = \"Test Loss\")\n",
        "    plt.xlabel(\"Epoch\")\n",
        "    plt.ylabel(\"Loss\")\n",
        "    plt.title(\"Loss Graph\")\n",
        "    plt.legend()\n",
        "    plt.savefig('loss.jpg')\n",
        "    plt.close()\n",
        "    plt.plot(metrics['epoch'], metrics['train_accuracy'], label = \"Train Accuracy\")\n",
        "    plt.plot(metrics['epoch'], metrics['test_accuracy'], label = \"Test Accuracy\")\n",
        "    plt.xlabel(\"Epoch\")\n",
        "    plt.ylabel(\"Accuracy\")\n",
        "    plt.title(\"Accuracy Graph\")\n",
        "    plt.legend()\n",
        "    plt.savefig('accuracy.jpg')\n",
        "    plt.close()\n",
        "    plt.plot(metrics['epoch'], metrics[class_names[0]], label = f\"Class Wise Accuracy of {class_names[0]}\")\n",
        "    plt.plot(metrics['epoch'], metrics[class_names[1]], label = f\"Class Wise Accuracy of {class_names[1]}\")\n",
        "    plt.xlabel(\"Epoch\")\n",
        "    plt.ylabel(\"Accuracy\")\n",
        "    plt.title(\"Class Wise Accuracy Graph\")\n",
        "    plt.legend()\n",
        "    plt.savefig('class_wise.jpg')\n",
        "\n",
        "    summary += \"![](loss.jpg)\"\n",
        "    summary += \"\\n\"\n",
        "    summary += \"![](accuracy.jpg)\"\n",
        "    summary += \"\\n\"\n",
        "    summary += \"\\n\"\n",
        "    summary += \"![](class_wise.jpg)\"\n",
        "    summary += \"\\n\"\n",
        "\n",
        "    with open(\"Summary.md\", \"w\") as f:\n",
        "        f.write(summary)"
      ],
      "execution_count": null,
      "outputs": []
    },
    {
      "cell_type": "code",
      "metadata": {
        "colab": {
          "base_uri": "https://localhost:8080/",
          "height": 156,
          "referenced_widgets": [
            "3379d47085d04d34911f726f34308bf1",
            "422acfc390e046a6a90c3b19285b5e92",
            "2d3c9b7b1ba94dca9b510d2a8aae7abd",
            "bb748b2f710f41dca7ff35a463a87cd6",
            "4cb13e6e8a1a4140a65f6864d00a0a90",
            "f5a386f4da2d418fb424fb9c12c29a5d",
            "4c4e8c8d880d4b0b9ee958a150e2ab24",
            "7bf1b66c1c3f4e808ddd32babe63e780",
            "9705fb52ebf74bf3ba69ffe99ed53881",
            "7f7ec07af82f493ab433afa2a6c6ce05",
            "5b20e8897e0f48eb84f2019731a40f36"
          ]
        },
        "id": "yQZHOuk-xF15",
        "outputId": "4453e0d4-50fe-40cf-e59f-f6d8a0009217"
      },
      "source": [
        "CHECK_POINT_PATH = 'cifar10_resnet18.pth'\n",
        "METRICS_FILE = 'metrics.csv'\n",
        "cuda = torch.cuda.is_available()\n",
        "SEED = 1\n",
        "\n",
        "transform = transforms.Compose(\n",
        "    [transforms.ToTensor(),\n",
        "     transforms.Normalize((0.5, 0.5, 0.5), (0.5, 0.5, 0.5))])\n",
        "\n",
        "# For reproducibility\n",
        "torch.manual_seed(SEED)\n",
        "\n",
        "if cuda:\n",
        "    torch.cuda.manual_seed(SEED)\n",
        "\n",
        "Batch_size = 64\n",
        "if cuda:\n",
        "  Batch_size = 128\n",
        "\n",
        "# dataloader arguments - something you'll fetch these from cmdprmt\n",
        "dataloader_args = dict(shuffle=True, batch_size=Batch_size, num_workers=4, pin_memory=True) if cuda else dict(shuffle=True, batch_size=Batch_size)\n",
        "\n",
        "trainset = torchvision.datasets.CIFAR10(root='./data', train=True,\n",
        "                                        download=True, transform=transform)\n",
        "trainloader = torch.utils.data.DataLoader(trainset, **dataloader_args)\n",
        "\n",
        "testset = torchvision.datasets.CIFAR10(root='./data', train=False,\n",
        "                                       download=True, transform=transform)\n",
        "testloader = torch.utils.data.DataLoader(testset, **dataloader_args)\n",
        "\n",
        "\n"
      ],
      "execution_count": null,
      "outputs": [
        {
          "output_type": "stream",
          "name": "stdout",
          "text": [
            "Downloading https://www.cs.toronto.edu/~kriz/cifar-10-python.tar.gz to ./data/cifar-10-python.tar.gz\n"
          ]
        },
        {
          "output_type": "display_data",
          "data": {
            "application/vnd.jupyter.widget-view+json": {
              "model_id": "3379d47085d04d34911f726f34308bf1",
              "version_minor": 0,
              "version_major": 2
            },
            "text/plain": [
              "  0%|          | 0/170498071 [00:00<?, ?it/s]"
            ]
          },
          "metadata": {}
        },
        {
          "output_type": "stream",
          "name": "stdout",
          "text": [
            "Extracting ./data/cifar-10-python.tar.gz to ./data\n"
          ]
        },
        {
          "output_type": "stream",
          "name": "stderr",
          "text": [
            "/usr/local/lib/python3.7/dist-packages/torch/utils/data/dataloader.py:481: UserWarning: This DataLoader will create 4 worker processes in total. Our suggested max number of worker in current system is 2, which is smaller than what this DataLoader is going to create. Please be aware that excessive worker creation might get DataLoader running slow or even freeze, lower the worker number to avoid potential slowness/freeze if necessary.\n",
            "  cpuset_checked))\n"
          ]
        },
        {
          "output_type": "stream",
          "name": "stdout",
          "text": [
            "Files already downloaded and verified\n"
          ]
        }
      ]
    },
    {
      "cell_type": "code",
      "metadata": {
        "colab": {
          "base_uri": "https://localhost:8080/"
        },
        "id": "d_vXkBI31Qle",
        "outputId": "6c0d86ed-9191-4498-b7ee-97dad7d25a6c"
      },
      "source": [
        "trainloader.dataset.class_to_idx"
      ],
      "execution_count": null,
      "outputs": [
        {
          "output_type": "execute_result",
          "data": {
            "text/plain": [
              "{'airplane': 0,\n",
              " 'automobile': 1,\n",
              " 'bird': 2,\n",
              " 'cat': 3,\n",
              " 'deer': 4,\n",
              " 'dog': 5,\n",
              " 'frog': 6,\n",
              " 'horse': 7,\n",
              " 'ship': 8,\n",
              " 'truck': 9}"
            ]
          },
          "metadata": {},
          "execution_count": 4
        }
      ]
    },
    {
      "cell_type": "code",
      "metadata": {
        "colab": {
          "base_uri": "https://localhost:8080/",
          "height": 1000,
          "referenced_widgets": [
            "25ae5cf5301743379ca05f3340fe89e5",
            "962126b3ae3b444bb6b305bf6dd8a631",
            "699b3e3742804a328c813beb2664ad7f",
            "86e892a16b154acb8aaa700a992333ce",
            "f86cc506201440f08e6ced1bed65feab",
            "319584053aab441f8a3c30e439e2d8e2",
            "890df8ee680342f195d9100ecd96382b",
            "f52964fa71714fc6985ae4439727f045",
            "d76fa151a8c8414685e84f8465d716cf",
            "af440100cdbe41ffa971dd929137053b",
            "4596bf18cf7745ba8fe5671c2ed4efc2"
          ]
        },
        "id": "1KyRpNIawMja",
        "outputId": "3e50d9e1-f3c4-4aa2-bde8-aec8b12d37f8"
      },
      "source": [
        "\n",
        "\n",
        "\n",
        "\n",
        "class_names = trainset.classes\n",
        "class_label_maping = trainset.class_to_idx\n",
        "\n",
        "print(class_names)\n",
        "print(f'Train image size: {trainset}')\n",
        "print(f'Validation image size: {testset}')\n",
        "metrics = {'epoch': [], \"train_accuracy\": [], \"train_loss\": [], \"test_accuracy\": [], \"test_loss\": []}\n",
        "\n",
        "# Columns for class wise accuracy\n",
        "for i in class_names:\n",
        "    metrics[i] = []\n",
        "\n",
        "model = torchvision.models.resnet18(pretrained=True)\n",
        "device = torch.device(\"cuda:0\" if torch.cuda.is_available() else \"cpu\")\n",
        "print(device)\n",
        "# for param in model.parameters():\n",
        "#     param.requires_grad = True\n",
        "criterion = nn.CrossEntropyLoss()\n",
        "optimizer = optim.SGD(model.parameters(), lr=0.001, momentum=0.9)\n",
        "num_ftrs = model.fc.in_features\n",
        "model.fc = nn.Linear(num_ftrs, len(class_names))\n",
        "model = model.to(device)\n",
        "\n",
        "try:\n",
        "    checkpoint = torch.load(CHECK_POINT_PATH)\n",
        "    print(\"checkpoint loaded\")\n",
        "except Exception:\n",
        "    checkpoint = None\n",
        "    print(\"checkpoint not found\")\n",
        "\n",
        "\n",
        "train_model(model,\n",
        "            criterion,\n",
        "            optimizer,\n",
        "            num_epochs=30,\n",
        "            checkpoint=checkpoint)\n",
        "\n",
        "metrics_df = pd.DataFrame(metrics)\n",
        "metrics_df.to_csv(METRICS_FILE, index=False)\n"
      ],
      "execution_count": null,
      "outputs": [
        {
          "output_type": "stream",
          "name": "stdout",
          "text": [
            "['airplane', 'automobile', 'bird', 'cat', 'deer', 'dog', 'frog', 'horse', 'ship', 'truck']\n",
            "Train image size: Dataset CIFAR10\n",
            "    Number of datapoints: 50000\n",
            "    Root location: ./data\n",
            "    Split: Train\n",
            "    StandardTransform\n",
            "Transform: Compose(\n",
            "               ToTensor()\n",
            "               Normalize(mean=(0.5, 0.5, 0.5), std=(0.5, 0.5, 0.5))\n",
            "           )\n",
            "Validation image size: Dataset CIFAR10\n",
            "    Number of datapoints: 10000\n",
            "    Root location: ./data\n",
            "    Split: Test\n",
            "    StandardTransform\n",
            "Transform: Compose(\n",
            "               ToTensor()\n",
            "               Normalize(mean=(0.5, 0.5, 0.5), std=(0.5, 0.5, 0.5))\n",
            "           )\n"
          ]
        },
        {
          "output_type": "stream",
          "name": "stderr",
          "text": [
            "Downloading: \"https://download.pytorch.org/models/resnet18-f37072fd.pth\" to /root/.cache/torch/hub/checkpoints/resnet18-f37072fd.pth\n"
          ]
        },
        {
          "output_type": "display_data",
          "data": {
            "application/vnd.jupyter.widget-view+json": {
              "model_id": "25ae5cf5301743379ca05f3340fe89e5",
              "version_minor": 0,
              "version_major": 2
            },
            "text/plain": [
              "  0%|          | 0.00/44.7M [00:00<?, ?B/s]"
            ]
          },
          "metadata": {}
        },
        {
          "output_type": "stream",
          "name": "stdout",
          "text": [
            "cuda:0\n",
            "checkpoint not found\n"
          ]
        },
        {
          "output_type": "stream",
          "name": "stderr",
          "text": [
            "\r  0%|          | 0/391 [00:00<?, ?it/s]/usr/local/lib/python3.7/dist-packages/torch/utils/data/dataloader.py:481: UserWarning: This DataLoader will create 4 worker processes in total. Our suggested max number of worker in current system is 2, which is smaller than what this DataLoader is going to create. Please be aware that excessive worker creation might get DataLoader running slow or even freeze, lower the worker number to avoid potential slowness/freeze if necessary.\n",
            "  cpuset_checked))\n",
            "/usr/local/lib/python3.7/dist-packages/torch/nn/functional.py:718: UserWarning: Named tensors and all their associated APIs are an experimental feature and subject to change. Please do not use them for anything important until they are released as stable. (Triggered internally at  /pytorch/c10/core/TensorImpl.h:1156.)\n",
            "  return torch.max_pool2d(input, kernel_size, stride, padding, dilation, ceil_mode)\n",
            "epoch = 0 loss=0.8554606437683105 batch_id=390: 100%|██████████| 391/391 [02:08<00:00,  3.04it/s]\n"
          ]
        },
        {
          "output_type": "stream",
          "name": "stdout",
          "text": [
            "\n",
            "Test set: Average loss: 0.8317, Accuracy: 7061/10000 (70.61%)\n"
          ]
        },
        {
          "output_type": "stream",
          "name": "stderr",
          "text": [
            "epoch = 1 loss=0.8255497813224792 batch_id=390: 100%|██████████| 391/391 [02:09<00:00,  3.03it/s]\n"
          ]
        },
        {
          "output_type": "stream",
          "name": "stdout",
          "text": [
            "\n",
            "Test set: Average loss: 0.7124, Accuracy: 7519/10000 (75.19%)\n"
          ]
        },
        {
          "output_type": "stream",
          "name": "stderr",
          "text": [
            "epoch = 2 loss=0.5096349716186523 batch_id=390: 100%|██████████| 391/391 [02:08<00:00,  3.05it/s]\n"
          ]
        },
        {
          "output_type": "stream",
          "name": "stdout",
          "text": [
            "\n",
            "Test set: Average loss: 0.6639, Accuracy: 7737/10000 (77.37%)\n"
          ]
        },
        {
          "output_type": "stream",
          "name": "stderr",
          "text": [
            "epoch = 3 loss=0.4038713872432709 batch_id=390: 100%|██████████| 391/391 [02:09<00:00,  3.02it/s]\n"
          ]
        },
        {
          "output_type": "stream",
          "name": "stdout",
          "text": [
            "\n",
            "Test set: Average loss: 0.6545, Accuracy: 7816/10000 (78.16%)\n"
          ]
        },
        {
          "output_type": "stream",
          "name": "stderr",
          "text": [
            "epoch = 4 loss=0.2539976239204407 batch_id=390: 100%|██████████| 391/391 [02:08<00:00,  3.05it/s]\n"
          ]
        },
        {
          "output_type": "stream",
          "name": "stdout",
          "text": [
            "\n",
            "Test set: Average loss: 0.6643, Accuracy: 7851/10000 (78.51%)\n"
          ]
        },
        {
          "output_type": "stream",
          "name": "stderr",
          "text": [
            "epoch = 5 loss=0.2778905928134918 batch_id=390: 100%|██████████| 391/391 [02:09<00:00,  3.02it/s]\n"
          ]
        },
        {
          "output_type": "stream",
          "name": "stdout",
          "text": [
            "\n",
            "Test set: Average loss: 0.7066, Accuracy: 7849/10000 (78.49%)\n"
          ]
        },
        {
          "output_type": "stream",
          "name": "stderr",
          "text": [
            "epoch = 6 loss=0.2415820062160492 batch_id=390: 100%|██████████| 391/391 [02:08<00:00,  3.05it/s]\n"
          ]
        },
        {
          "output_type": "stream",
          "name": "stdout",
          "text": [
            "\n",
            "Test set: Average loss: 0.7125, Accuracy: 7865/10000 (78.65%)\n"
          ]
        },
        {
          "output_type": "stream",
          "name": "stderr",
          "text": [
            "epoch = 7 loss=0.19340567290782928 batch_id=390: 100%|██████████| 391/391 [02:09<00:00,  3.01it/s]\n"
          ]
        },
        {
          "output_type": "stream",
          "name": "stdout",
          "text": [
            "\n",
            "Test set: Average loss: 0.7562, Accuracy: 7890/10000 (78.90%)\n"
          ]
        },
        {
          "output_type": "stream",
          "name": "stderr",
          "text": [
            "epoch = 8 loss=0.079340860247612 batch_id=390: 100%|██████████| 391/391 [02:08<00:00,  3.04it/s]\n"
          ]
        },
        {
          "output_type": "stream",
          "name": "stdout",
          "text": [
            "\n",
            "Test set: Average loss: 0.7805, Accuracy: 7942/10000 (79.42%)\n"
          ]
        },
        {
          "output_type": "stream",
          "name": "stderr",
          "text": [
            "epoch = 9 loss=0.1340722143650055 batch_id=390: 100%|██████████| 391/391 [02:09<00:00,  3.02it/s]\n"
          ]
        },
        {
          "output_type": "stream",
          "name": "stdout",
          "text": [
            "\n",
            "Test set: Average loss: 0.8127, Accuracy: 7920/10000 (79.20%)\n"
          ]
        },
        {
          "output_type": "stream",
          "name": "stderr",
          "text": [
            "epoch = 10 loss=0.07716313749551773 batch_id=390: 100%|██████████| 391/391 [02:08<00:00,  3.05it/s]\n"
          ]
        },
        {
          "output_type": "stream",
          "name": "stdout",
          "text": [
            "\n",
            "Test set: Average loss: 0.8226, Accuracy: 7928/10000 (79.28%)\n"
          ]
        },
        {
          "output_type": "stream",
          "name": "stderr",
          "text": [
            "epoch = 11 loss=0.062288425862789154 batch_id=390: 100%|██████████| 391/391 [02:09<00:00,  3.02it/s]\n"
          ]
        },
        {
          "output_type": "stream",
          "name": "stdout",
          "text": [
            "\n",
            "Test set: Average loss: 0.8572, Accuracy: 7908/10000 (79.08%)\n"
          ]
        },
        {
          "output_type": "stream",
          "name": "stderr",
          "text": [
            "epoch = 12 loss=0.04529818147420883 batch_id=390: 100%|██████████| 391/391 [02:08<00:00,  3.04it/s]\n"
          ]
        },
        {
          "output_type": "stream",
          "name": "stdout",
          "text": [
            "\n",
            "Test set: Average loss: 0.8567, Accuracy: 7929/10000 (79.29%)\n"
          ]
        },
        {
          "output_type": "stream",
          "name": "stderr",
          "text": [
            "epoch = 13 loss=0.033595096319913864 batch_id=390: 100%|██████████| 391/391 [02:09<00:00,  3.01it/s]\n"
          ]
        },
        {
          "output_type": "stream",
          "name": "stdout",
          "text": [
            "\n",
            "Test set: Average loss: 0.8789, Accuracy: 7960/10000 (79.60%)\n"
          ]
        },
        {
          "output_type": "stream",
          "name": "stderr",
          "text": [
            "epoch = 14 loss=0.033200882375240326 batch_id=390: 100%|██████████| 391/391 [02:08<00:00,  3.05it/s]\n"
          ]
        },
        {
          "output_type": "stream",
          "name": "stdout",
          "text": [
            "\n",
            "Test set: Average loss: 0.8900, Accuracy: 7942/10000 (79.42%)\n"
          ]
        },
        {
          "output_type": "stream",
          "name": "stderr",
          "text": [
            "epoch = 15 loss=0.0586734302341938 batch_id=390: 100%|██████████| 391/391 [02:09<00:00,  3.02it/s]\n"
          ]
        },
        {
          "output_type": "stream",
          "name": "stdout",
          "text": [
            "\n",
            "Test set: Average loss: 0.8803, Accuracy: 7980/10000 (79.80%)\n"
          ]
        },
        {
          "output_type": "stream",
          "name": "stderr",
          "text": [
            "epoch = 16 loss=0.05057709291577339 batch_id=390: 100%|██████████| 391/391 [02:08<00:00,  3.04it/s]\n"
          ]
        },
        {
          "output_type": "stream",
          "name": "stdout",
          "text": [
            "\n",
            "Test set: Average loss: 0.8878, Accuracy: 7965/10000 (79.65%)\n"
          ]
        },
        {
          "output_type": "stream",
          "name": "stderr",
          "text": [
            "epoch = 17 loss=0.06199878454208374 batch_id=390: 100%|██████████| 391/391 [02:09<00:00,  3.01it/s]\n"
          ]
        },
        {
          "output_type": "stream",
          "name": "stdout",
          "text": [
            "\n",
            "Test set: Average loss: 0.9166, Accuracy: 7971/10000 (79.71%)\n"
          ]
        },
        {
          "output_type": "stream",
          "name": "stderr",
          "text": [
            "epoch = 18 loss=0.019296938553452492 batch_id=390: 100%|██████████| 391/391 [02:08<00:00,  3.04it/s]\n"
          ]
        },
        {
          "output_type": "stream",
          "name": "stdout",
          "text": [
            "\n",
            "Test set: Average loss: 0.9197, Accuracy: 7987/10000 (79.87%)\n"
          ]
        },
        {
          "output_type": "stream",
          "name": "stderr",
          "text": [
            "epoch = 19 loss=0.04379487782716751 batch_id=390: 100%|██████████| 391/391 [02:09<00:00,  3.02it/s]\n"
          ]
        },
        {
          "output_type": "stream",
          "name": "stdout",
          "text": [
            "\n",
            "Test set: Average loss: 0.9257, Accuracy: 7953/10000 (79.53%)\n"
          ]
        },
        {
          "output_type": "stream",
          "name": "stderr",
          "text": [
            "epoch = 20 loss=0.012228271923959255 batch_id=390: 100%|██████████| 391/391 [02:08<00:00,  3.05it/s]\n"
          ]
        },
        {
          "output_type": "stream",
          "name": "stdout",
          "text": [
            "\n",
            "Test set: Average loss: 0.9164, Accuracy: 7984/10000 (79.84%)\n"
          ]
        },
        {
          "output_type": "stream",
          "name": "stderr",
          "text": [
            "epoch = 21 loss=0.023111576214432716 batch_id=390: 100%|██████████| 391/391 [02:08<00:00,  3.03it/s]\n"
          ]
        },
        {
          "output_type": "stream",
          "name": "stdout",
          "text": [
            "\n",
            "Test set: Average loss: 0.9431, Accuracy: 7981/10000 (79.81%)\n"
          ]
        },
        {
          "output_type": "stream",
          "name": "stderr",
          "text": [
            "epoch = 22 loss=0.046119194477796555 batch_id=390: 100%|██████████| 391/391 [02:08<00:00,  3.05it/s]\n"
          ]
        },
        {
          "output_type": "stream",
          "name": "stdout",
          "text": [
            "\n",
            "Test set: Average loss: 0.9432, Accuracy: 7967/10000 (79.67%)\n"
          ]
        },
        {
          "output_type": "stream",
          "name": "stderr",
          "text": [
            "epoch = 23 loss=0.010166813619434834 batch_id=390: 100%|██████████| 391/391 [02:09<00:00,  3.03it/s]\n"
          ]
        },
        {
          "output_type": "stream",
          "name": "stdout",
          "text": [
            "\n",
            "Test set: Average loss: 0.9494, Accuracy: 7992/10000 (79.92%)\n"
          ]
        },
        {
          "output_type": "stream",
          "name": "stderr",
          "text": [
            "epoch = 24 loss=0.020480144768953323 batch_id=390: 100%|██████████| 391/391 [02:08<00:00,  3.05it/s]\n"
          ]
        },
        {
          "output_type": "stream",
          "name": "stdout",
          "text": [
            "\n",
            "Test set: Average loss: 0.9690, Accuracy: 8007/10000 (80.07%)\n"
          ]
        },
        {
          "output_type": "stream",
          "name": "stderr",
          "text": [
            "epoch = 25 loss=0.008661654777824879 batch_id=390: 100%|██████████| 391/391 [02:09<00:00,  3.02it/s]\n"
          ]
        },
        {
          "output_type": "stream",
          "name": "stdout",
          "text": [
            "\n",
            "Test set: Average loss: 0.9589, Accuracy: 7985/10000 (79.85%)\n"
          ]
        },
        {
          "output_type": "stream",
          "name": "stderr",
          "text": [
            "epoch = 26 loss=0.017483053728938103 batch_id=390: 100%|██████████| 391/391 [02:08<00:00,  3.04it/s]\n"
          ]
        },
        {
          "output_type": "stream",
          "name": "stdout",
          "text": [
            "\n",
            "Test set: Average loss: 0.9698, Accuracy: 7999/10000 (79.99%)\n"
          ]
        },
        {
          "output_type": "stream",
          "name": "stderr",
          "text": [
            "epoch = 27 loss=0.025531232357025146 batch_id=390: 100%|██████████| 391/391 [02:09<00:00,  3.02it/s]\n"
          ]
        },
        {
          "output_type": "stream",
          "name": "stdout",
          "text": [
            "\n",
            "Test set: Average loss: 0.9884, Accuracy: 7991/10000 (79.91%)\n"
          ]
        },
        {
          "output_type": "stream",
          "name": "stderr",
          "text": [
            "epoch = 28 loss=0.22156639397144318 batch_id=390: 100%|██████████| 391/391 [02:08<00:00,  3.05it/s]\n"
          ]
        },
        {
          "output_type": "stream",
          "name": "stdout",
          "text": [
            "\n",
            "Test set: Average loss: 0.9778, Accuracy: 7990/10000 (79.90%)\n"
          ]
        },
        {
          "output_type": "stream",
          "name": "stderr",
          "text": [
            "epoch = 29 loss=0.042525820434093475 batch_id=390: 100%|██████████| 391/391 [02:09<00:00,  3.03it/s]\n"
          ]
        },
        {
          "output_type": "stream",
          "name": "stdout",
          "text": [
            "\n",
            "Test set: Average loss: 0.9728, Accuracy: 7980/10000 (79.80%)\n",
            "Training is Complete: Time taken is 66.0min 15.760053396224976sec\n"
          ]
        }
      ]
    },
    {
      "cell_type": "code",
      "metadata": {
        "id": "8W2WpUCT-rq7"
      },
      "source": [
        ""
      ],
      "execution_count": null,
      "outputs": []
    }
  ]
}